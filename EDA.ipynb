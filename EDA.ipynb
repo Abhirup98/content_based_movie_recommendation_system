{
 "cells": [
  {
   "cell_type": "code",
   "execution_count": 1,
   "metadata": {
    "collapsed": true,
    "deletable": true,
    "editable": true
   },
   "outputs": [],
   "source": [
    "import os\n",
    "import re\n",
    "import collections\n",
    "\n",
    "import pandas as pd\n",
    "import numpy as np\n",
    "import matplotlib.pyplot as plt\n",
    "import seaborn as sns\n",
    "import nltk\n",
    "from sklearn.feature_extraction.text import TfidfVectorizer\n",
    "\n",
    "import chardet\n",
    "\n",
    "DATA_PATH = 'data'\n",
    "%matplotlib inline"
   ]
  },
  {
   "cell_type": "code",
   "execution_count": 2,
   "metadata": {
    "collapsed": false,
    "deletable": true,
    "editable": true
   },
   "outputs": [
    {
     "data": {
      "text/plain": [
       "['glove.twitter.27B.100d.txt',\n",
       " 'keywords.csv',\n",
       " 'links.csv',\n",
       " 'glove.6B.50d.txt',\n",
       " 'clean.csv',\n",
       " 'ratings.csv',\n",
       " 'glove.twitter.27B.50d.txt',\n",
       " 'glove.twitter.27B.25d.txt',\n",
       " 'glove.twitter.27B.200d.txt',\n",
       " 'crawl-300d-2M.vec',\n",
       " 'credits.csv',\n",
       " 'ratings_small.csv',\n",
       " 'links_small.csv',\n",
       " 'movies_metadata.csv']"
      ]
     },
     "execution_count": 2,
     "metadata": {},
     "output_type": "execute_result"
    }
   ],
   "source": [
    "data_list = os.listdir(DATA_PATH)\n",
    "data_list"
   ]
  },
  {
   "cell_type": "code",
   "execution_count": 3,
   "metadata": {
    "collapsed": false,
    "deletable": true,
    "editable": true
   },
   "outputs": [
    {
     "name": "stdout",
     "output_type": "stream",
     "text": [
      "keywords.csv {'confidence': 1.0, 'encoding': 'ascii', 'language': ''}\n",
      "links.csv {'confidence': 1.0, 'encoding': 'ascii', 'language': ''}\n",
      "clean.csv {'confidence': 0.7525, 'encoding': 'utf-8', 'language': ''}\n",
      "ratings.csv {'confidence': 1.0, 'encoding': 'ascii', 'language': ''}\n",
      "credits.csv {'confidence': 1.0, 'encoding': 'ascii', 'language': ''}\n",
      "ratings_small.csv {'confidence': 1.0, 'encoding': 'ascii', 'language': ''}\n",
      "links_small.csv {'confidence': 1.0, 'encoding': 'ascii', 'language': ''}\n",
      "movies_metadata.csv {'confidence': 0.99, 'encoding': 'utf-8', 'language': ''}\n"
     ]
    }
   ],
   "source": [
    "for file in data_list:\n",
    "    if file.endswith('csv'):\n",
    "        path = os.path.join(DATA_PATH, file)\n",
    "        with open(path, 'rb') as rawdata:\n",
    "            result = chardet.detect(rawdata.read(10000))\n",
    "            print(file, result)"
   ]
  },
  {
   "cell_type": "code",
   "execution_count": 4,
   "metadata": {
    "collapsed": false,
    "deletable": true,
    "editable": true
   },
   "outputs": [
    {
     "name": "stderr",
     "output_type": "stream",
     "text": [
      "/usr/local/lib/python3.4/dist-packages/IPython/core/interactiveshell.py:2717: DtypeWarning: Columns (10) have mixed types. Specify dtype option on import or set low_memory=False.\n",
      "  interactivity=interactivity, compiler=compiler, result=result)\n"
     ]
    }
   ],
   "source": [
    "df1 = pd.read_csv(os.path.join(DATA_PATH, 'credits.csv'))\n",
    "df2 = pd.read_csv(os.path.join(DATA_PATH, 'movies_metadata.csv'))"
   ]
  },
  {
   "cell_type": "code",
   "execution_count": 5,
   "metadata": {
    "collapsed": false,
    "deletable": true,
    "editable": true
   },
   "outputs": [
    {
     "data": {
      "text/plain": [
       "Index(['cast', 'crew', 'id'], dtype='object')"
      ]
     },
     "execution_count": 5,
     "metadata": {},
     "output_type": "execute_result"
    }
   ],
   "source": [
    "df1.columns"
   ]
  },
  {
   "cell_type": "code",
   "execution_count": 6,
   "metadata": {
    "collapsed": false,
    "deletable": true,
    "editable": true
   },
   "outputs": [
    {
     "data": {
      "text/plain": [
       "Index(['adult', 'belongs_to_collection', 'budget', 'genres', 'homepage', 'id',\n",
       "       'imdb_id', 'original_language', 'original_title', 'overview',\n",
       "       'popularity', 'poster_path', 'production_companies',\n",
       "       'production_countries', 'release_date', 'revenue', 'runtime',\n",
       "       'spoken_languages', 'status', 'tagline', 'title', 'video',\n",
       "       'vote_average', 'vote_count'],\n",
       "      dtype='object')"
      ]
     },
     "execution_count": 6,
     "metadata": {},
     "output_type": "execute_result"
    }
   ],
   "source": [
    "df2.columns"
   ]
  },
  {
   "cell_type": "code",
   "execution_count": 7,
   "metadata": {
    "collapsed": true,
    "deletable": true,
    "editable": true
   },
   "outputs": [],
   "source": [
    "df2['id'] = pd.to_numeric(df2['id'], errors='coerce', downcast='integer')"
   ]
  },
  {
   "cell_type": "code",
   "execution_count": 8,
   "metadata": {
    "collapsed": false,
    "deletable": true,
    "editable": true
   },
   "outputs": [
    {
     "data": {
      "text/plain": [
       "(45462, 21)"
      ]
     },
     "execution_count": 8,
     "metadata": {},
     "output_type": "execute_result"
    }
   ],
   "source": [
    "df = pd.merge(left=df1, right=df2, on='id', how='inner')\n",
    "del df1, df2\n",
    "df = df.drop_duplicates()\n",
    "# drop not very informative features\n",
    "df = df.drop(labels=['imdb_id', 'poster_path', 'homepage', 'video', 'spoken_languages'], axis=1)\n",
    "df.shape"
   ]
  },
  {
   "cell_type": "code",
   "execution_count": 9,
   "metadata": {
    "collapsed": false,
    "deletable": true,
    "editable": true
   },
   "outputs": [],
   "source": [
    "# Extract year, month and day of week of movie release\n",
    "df['release_date'] = pd.to_datetime(df['release_date'], errors='coerce')\n",
    "df['year'] = df['release_date'].dt.year \n",
    "df['month'] = df['release_date'].dt.month \n",
    "df['day_of_week'] = df['release_date'].dt.weekday_name "
   ]
  },
  {
   "cell_type": "code",
   "execution_count": 10,
   "metadata": {
    "collapsed": false,
    "deletable": true,
    "editable": true
   },
   "outputs": [
    {
     "data": {
      "text/html": [
       "<div>\n",
       "<style scoped>\n",
       "    .dataframe tbody tr th:only-of-type {\n",
       "        vertical-align: middle;\n",
       "    }\n",
       "\n",
       "    .dataframe tbody tr th {\n",
       "        vertical-align: top;\n",
       "    }\n",
       "\n",
       "    .dataframe thead th {\n",
       "        text-align: right;\n",
       "    }\n",
       "</style>\n",
       "<table border=\"1\" class=\"dataframe\">\n",
       "  <thead>\n",
       "    <tr style=\"text-align: right;\">\n",
       "      <th></th>\n",
       "      <th>title</th>\n",
       "      <th>original_title</th>\n",
       "    </tr>\n",
       "  </thead>\n",
       "  <tbody>\n",
       "    <tr>\n",
       "      <th>28</th>\n",
       "      <td>The City of Lost Children</td>\n",
       "      <td>La Cité des Enfants Perdus</td>\n",
       "    </tr>\n",
       "    <tr>\n",
       "      <th>29</th>\n",
       "      <td>Shanghai Triad</td>\n",
       "      <td>摇啊摇，摇到外婆桥</td>\n",
       "    </tr>\n",
       "    <tr>\n",
       "      <th>32</th>\n",
       "      <td>Wings of Courage</td>\n",
       "      <td>Guillaumet, les ailes du courage</td>\n",
       "    </tr>\n",
       "    <tr>\n",
       "      <th>57</th>\n",
       "      <td>The Postman</td>\n",
       "      <td>Il postino</td>\n",
       "    </tr>\n",
       "    <tr>\n",
       "      <th>58</th>\n",
       "      <td>The Confessional</td>\n",
       "      <td>Le confessionnal</td>\n",
       "    </tr>\n",
       "  </tbody>\n",
       "</table>\n",
       "</div>"
      ],
      "text/plain": [
       "                        title                    original_title\n",
       "28  The City of Lost Children        La Cité des Enfants Perdus\n",
       "29             Shanghai Triad                         摇啊摇，摇到外婆桥\n",
       "32           Wings of Courage  Guillaumet, les ailes du courage\n",
       "57                The Postman                        Il postino\n",
       "58           The Confessional                  Le confessionnal"
      ]
     },
     "execution_count": 10,
     "metadata": {},
     "output_type": "execute_result"
    }
   ],
   "source": [
    "df[df['original_title'] != df['title']][['title', 'original_title']].head()"
   ]
  },
  {
   "cell_type": "code",
   "execution_count": 11,
   "metadata": {
    "collapsed": true,
    "deletable": true,
    "editable": true
   },
   "outputs": [],
   "source": [
    "# original_title refers to the title of the movie in the native language\n",
    "df = df.drop(labels=['original_title'], axis=1)"
   ]
  },
  {
   "cell_type": "code",
   "execution_count": 12,
   "metadata": {
    "collapsed": false,
    "deletable": true,
    "editable": true
   },
   "outputs": [
    {
     "data": {
      "text/plain": [
       "False    45453\n",
       "True         9\n",
       "Name: adult, dtype: int64"
      ]
     },
     "execution_count": 12,
     "metadata": {},
     "output_type": "execute_result"
    }
   ],
   "source": [
    "df['adult'].value_counts()"
   ]
  },
  {
   "cell_type": "code",
   "execution_count": 13,
   "metadata": {
    "collapsed": true,
    "deletable": true,
    "editable": true
   },
   "outputs": [],
   "source": [
    "# there are only 9 films with adult rating\n",
    "df = df.drop(labels=['adult'], axis=1)"
   ]
  },
  {
   "cell_type": "code",
   "execution_count": 14,
   "metadata": {
    "collapsed": true,
    "deletable": true,
    "editable": true
   },
   "outputs": [],
   "source": [
    "# try to cast revenue and budget to numeric values\n",
    "df['budget'] = pd.to_numeric(df['budget'], errors='coerce')"
   ]
  },
  {
   "cell_type": "code",
   "execution_count": 15,
   "metadata": {
    "collapsed": false,
    "deletable": true,
    "editable": true
   },
   "outputs": [
    {
     "data": {
      "text/plain": [
       "((38049, 22), (36566, 22))"
      ]
     },
     "execution_count": 15,
     "metadata": {},
     "output_type": "execute_result"
    }
   ],
   "source": [
    "# a lot of zero values in revenue and budget columns\n",
    "df[df['revenue'] == 0].shape, df[df['budget'] == 0].shape"
   ]
  },
  {
   "cell_type": "code",
   "execution_count": 16,
   "metadata": {
    "collapsed": true,
    "deletable": true,
    "editable": true
   },
   "outputs": [],
   "source": [
    "# convert zero values to NaN\n",
    "df['revenue'] = df['revenue'].replace(0, np.nan)\n",
    "df['budget'] = df['budget'].replace(0, np.nan)\n",
    "df['runtime'] = df['runtime'].replace(0, np.nan)"
   ]
  },
  {
   "cell_type": "code",
   "execution_count": 17,
   "metadata": {
    "collapsed": false,
    "deletable": true,
    "editable": true
   },
   "outputs": [
    {
     "data": {
      "text/html": [
       "<div>\n",
       "<style scoped>\n",
       "    .dataframe tbody tr th:only-of-type {\n",
       "        vertical-align: middle;\n",
       "    }\n",
       "\n",
       "    .dataframe tbody tr th {\n",
       "        vertical-align: top;\n",
       "    }\n",
       "\n",
       "    .dataframe thead th {\n",
       "        text-align: right;\n",
       "    }\n",
       "</style>\n",
       "<table border=\"1\" class=\"dataframe\">\n",
       "  <thead>\n",
       "    <tr style=\"text-align: right;\">\n",
       "      <th></th>\n",
       "      <th>revenue</th>\n",
       "      <th>budget</th>\n",
       "      <th>runtime</th>\n",
       "    </tr>\n",
       "  </thead>\n",
       "  <tbody>\n",
       "    <tr>\n",
       "      <th>count</th>\n",
       "      <td>7.410000e+03</td>\n",
       "      <td>8.896000e+03</td>\n",
       "      <td>43645.000000</td>\n",
       "    </tr>\n",
       "    <tr>\n",
       "      <th>mean</th>\n",
       "      <td>6.877770e+07</td>\n",
       "      <td>2.159949e+07</td>\n",
       "      <td>97.486562</td>\n",
       "    </tr>\n",
       "    <tr>\n",
       "      <th>std</th>\n",
       "      <td>1.464017e+08</td>\n",
       "      <td>3.430080e+07</td>\n",
       "      <td>34.648317</td>\n",
       "    </tr>\n",
       "    <tr>\n",
       "      <th>min</th>\n",
       "      <td>1.000000e+00</td>\n",
       "      <td>1.000000e+00</td>\n",
       "      <td>1.000000</td>\n",
       "    </tr>\n",
       "    <tr>\n",
       "      <th>25%</th>\n",
       "      <td>2.400000e+06</td>\n",
       "      <td>2.000000e+06</td>\n",
       "      <td>86.000000</td>\n",
       "    </tr>\n",
       "    <tr>\n",
       "      <th>50%</th>\n",
       "      <td>1.683423e+07</td>\n",
       "      <td>8.000000e+06</td>\n",
       "      <td>95.000000</td>\n",
       "    </tr>\n",
       "    <tr>\n",
       "      <th>75%</th>\n",
       "      <td>6.719821e+07</td>\n",
       "      <td>2.500000e+07</td>\n",
       "      <td>107.000000</td>\n",
       "    </tr>\n",
       "    <tr>\n",
       "      <th>max</th>\n",
       "      <td>2.787965e+09</td>\n",
       "      <td>3.800000e+08</td>\n",
       "      <td>1256.000000</td>\n",
       "    </tr>\n",
       "  </tbody>\n",
       "</table>\n",
       "</div>"
      ],
      "text/plain": [
       "            revenue        budget       runtime\n",
       "count  7.410000e+03  8.896000e+03  43645.000000\n",
       "mean   6.877770e+07  2.159949e+07     97.486562\n",
       "std    1.464017e+08  3.430080e+07     34.648317\n",
       "min    1.000000e+00  1.000000e+00      1.000000\n",
       "25%    2.400000e+06  2.000000e+06     86.000000\n",
       "50%    1.683423e+07  8.000000e+06     95.000000\n",
       "75%    6.719821e+07  2.500000e+07    107.000000\n",
       "max    2.787965e+09  3.800000e+08   1256.000000"
      ]
     },
     "execution_count": 17,
     "metadata": {},
     "output_type": "execute_result"
    }
   ],
   "source": [
    "# there are some unrealistic movies with budget and revenue equal 1$ and with length 1 minute\n",
    "df[['revenue', 'budget', 'runtime']].describe()"
   ]
  },
  {
   "cell_type": "code",
   "execution_count": 18,
   "metadata": {
    "collapsed": true,
    "deletable": true,
    "editable": true
   },
   "outputs": [],
   "source": [
    "# put NaN on movie with budget or revenue less 5000 and shorter than 5 minutes\n",
    "df.loc[df['budget'] < 10000, 'budget'] = np.nan\n",
    "df.loc[df['revenue'] < 10000, 'revenue'] = np.nan\n",
    "df.loc[df['runtime'] < 5, 'runtime'] = np.nan"
   ]
  },
  {
   "cell_type": "code",
   "execution_count": 19,
   "metadata": {
    "collapsed": true,
    "deletable": true,
    "editable": true
   },
   "outputs": [],
   "source": [
    "# create new feature revenue divided by budget showing if film make more money than was spent on its creation\n",
    "df['success'] = df['revenue'] / df['budget'] "
   ]
  },
  {
   "cell_type": "code",
   "execution_count": 20,
   "metadata": {
    "collapsed": false,
    "deletable": true,
    "editable": true
   },
   "outputs": [
    {
     "data": {
      "text/html": [
       "<div>\n",
       "<style scoped>\n",
       "    .dataframe tbody tr th:only-of-type {\n",
       "        vertical-align: middle;\n",
       "    }\n",
       "\n",
       "    .dataframe tbody tr th {\n",
       "        vertical-align: top;\n",
       "    }\n",
       "\n",
       "    .dataframe thead th {\n",
       "        text-align: right;\n",
       "    }\n",
       "</style>\n",
       "<table border=\"1\" class=\"dataframe\">\n",
       "  <thead>\n",
       "    <tr style=\"text-align: right;\">\n",
       "      <th></th>\n",
       "      <th>title</th>\n",
       "      <th>budget</th>\n",
       "      <th>revenue</th>\n",
       "      <th>success</th>\n",
       "    </tr>\n",
       "  </thead>\n",
       "  <tbody>\n",
       "    <tr>\n",
       "      <th>14258</th>\n",
       "      <td>Paranormal Activity</td>\n",
       "      <td>15000.0</td>\n",
       "      <td>193355800.0</td>\n",
       "      <td>12890.386667</td>\n",
       "    </tr>\n",
       "    <tr>\n",
       "      <th>2606</th>\n",
       "      <td>The Blair Witch Project</td>\n",
       "      <td>60000.0</td>\n",
       "      <td>248000000.0</td>\n",
       "      <td>4133.333333</td>\n",
       "    </tr>\n",
       "    <tr>\n",
       "      <th>3565</th>\n",
       "      <td>Eraserhead</td>\n",
       "      <td>10000.0</td>\n",
       "      <td>7000000.0</td>\n",
       "      <td>700.000000</td>\n",
       "    </tr>\n",
       "    <tr>\n",
       "      <th>4330</th>\n",
       "      <td>The Way of the Dragon</td>\n",
       "      <td>130000.0</td>\n",
       "      <td>85000000.0</td>\n",
       "      <td>653.846154</td>\n",
       "    </tr>\n",
       "    <tr>\n",
       "      <th>2256</th>\n",
       "      <td>Pink Flamingos</td>\n",
       "      <td>12000.0</td>\n",
       "      <td>6000000.0</td>\n",
       "      <td>500.000000</td>\n",
       "    </tr>\n",
       "    <tr>\n",
       "      <th>7820</th>\n",
       "      <td>Super Size Me</td>\n",
       "      <td>65000.0</td>\n",
       "      <td>28575078.0</td>\n",
       "      <td>439.616585</td>\n",
       "    </tr>\n",
       "    <tr>\n",
       "      <th>31708</th>\n",
       "      <td>The Gallows</td>\n",
       "      <td>100000.0</td>\n",
       "      <td>42664410.0</td>\n",
       "      <td>426.644100</td>\n",
       "    </tr>\n",
       "    <tr>\n",
       "      <th>9494</th>\n",
       "      <td>Open Water</td>\n",
       "      <td>130000.0</td>\n",
       "      <td>54667954.0</td>\n",
       "      <td>420.522723</td>\n",
       "    </tr>\n",
       "    <tr>\n",
       "      <th>2354</th>\n",
       "      <td>The Texas Chain Saw Massacre</td>\n",
       "      <td>85000.0</td>\n",
       "      <td>30859000.0</td>\n",
       "      <td>363.047059</td>\n",
       "    </tr>\n",
       "    <tr>\n",
       "      <th>1917</th>\n",
       "      <td>Bambi</td>\n",
       "      <td>858000.0</td>\n",
       "      <td>267447150.0</td>\n",
       "      <td>311.709965</td>\n",
       "    </tr>\n",
       "  </tbody>\n",
       "</table>\n",
       "</div>"
      ],
      "text/plain": [
       "                              title    budget      revenue       success\n",
       "14258           Paranormal Activity   15000.0  193355800.0  12890.386667\n",
       "2606        The Blair Witch Project   60000.0  248000000.0   4133.333333\n",
       "3565                     Eraserhead   10000.0    7000000.0    700.000000\n",
       "4330          The Way of the Dragon  130000.0   85000000.0    653.846154\n",
       "2256                 Pink Flamingos   12000.0    6000000.0    500.000000\n",
       "7820                  Super Size Me   65000.0   28575078.0    439.616585\n",
       "31708                   The Gallows  100000.0   42664410.0    426.644100\n",
       "9494                     Open Water  130000.0   54667954.0    420.522723\n",
       "2354   The Texas Chain Saw Massacre   85000.0   30859000.0    363.047059\n",
       "1917                          Bambi  858000.0  267447150.0    311.709965"
      ]
     },
     "execution_count": 20,
     "metadata": {},
     "output_type": "execute_result"
    }
   ],
   "source": [
    "# huge values of success feature are not outliers\n",
    "df.loc[df['success'] > 100, ['title', 'budget', 'revenue', 'success']]\\\n",
    ".sort_values(by='success', ascending=False).head(10)"
   ]
  },
  {
   "cell_type": "code",
   "execution_count": 21,
   "metadata": {
    "collapsed": false,
    "deletable": true,
    "editable": true
   },
   "outputs": [
    {
     "data": {
      "text/plain": [
       "Released           45014\n",
       "Rumored              229\n",
       "Post Production       98\n",
       "In Production         20\n",
       "Planned               15\n",
       "Canceled               2\n",
       "Name: status, dtype: int64"
      ]
     },
     "execution_count": 21,
     "metadata": {},
     "output_type": "execute_result"
    }
   ],
   "source": [
    "df['status'].value_counts()"
   ]
  },
  {
   "cell_type": "code",
   "execution_count": 22,
   "metadata": {
    "collapsed": true,
    "deletable": true,
    "editable": true
   },
   "outputs": [],
   "source": [
    "# take in account only released movies\n",
    "df = df.loc[df['status'] == 'Released']\n",
    "df = df.drop(labels=['status'], axis=1)"
   ]
  },
  {
   "cell_type": "code",
   "execution_count": 23,
   "metadata": {
    "collapsed": false,
    "deletable": true,
    "editable": true
   },
   "outputs": [
    {
     "data": {
      "image/png": "[encoded data removed]",
      "text/plain": [
       "<matplotlib.figure.Figure at 0x7fbf3150cf28>"
      ]
     },
     "metadata": {},
     "output_type": "display_data"
    }
   ],
   "source": [
    "temp = df['production_countries'].str.extractall(r'\\'name\\': \\'(?P<country>[\\w\\d\\s]*)\\'')\\\n",
    ".country.reset_index()['country']\n",
    "\n",
    "temp = temp.value_counts().reset_index().head(10)\n",
    "temp['percent'] = 100 * (temp['country'] / temp['country'].sum())\n",
    "\n",
    "plt.figure(figsize=(8, 8))\n",
    "plt.title('Top 10 countries by amount of movie production', size=15)\n",
    "patches, texts = plt.pie(x=temp['country'], labels=temp['index'] + temp['percent'].apply(\", {:2.0f}%\".format), \n",
    "                         startangle=60)\n",
    "[text.set_fontsize(14) for text in texts];"
   ]
  },
  {
   "cell_type": "code",
   "execution_count": 24,
   "metadata": {
    "collapsed": false,
    "deletable": true,
    "editable": true
   },
   "outputs": [],
   "source": [
    "# create new feature that is first country from production countries\n",
    "df['country_name'] = df['production_countries'].str.extract(r'\\'name\\': \\'(?P<country>[\\w\\d\\s]*)\\'', expand=False)"
   ]
  },
  {
   "cell_type": "code",
   "execution_count": 25,
   "metadata": {
    "collapsed": false,
    "deletable": true,
    "editable": true
   },
   "outputs": [],
   "source": [
    "# create new feature that is name of franchise if it exist\n",
    "df['franchise_name'] = df['belongs_to_collection'].str.extract(r'\\'name\\': \\'(?P<franchise>[\\w\\d\\s]*)\\'', \n",
    "                                                               expand=False)\n",
    "# table with statistic (mean, sum of revenue and count of movies in franchise)\n",
    "fran_pivot = df.pivot_table(index='franchise_name', values='revenue', \n",
    "                            aggfunc={'revenue': ['mean', 'sum', 'count']}).reset_index()"
   ]
  },
  {
   "cell_type": "code",
   "execution_count": 26,
   "metadata": {
    "collapsed": false,
    "deletable": true,
    "editable": true
   },
   "outputs": [
    {
     "data": {
      "text/html": [
       "<div>\n",
       "<style scoped>\n",
       "    .dataframe tbody tr th:only-of-type {\n",
       "        vertical-align: middle;\n",
       "    }\n",
       "\n",
       "    .dataframe tbody tr th {\n",
       "        vertical-align: top;\n",
       "    }\n",
       "\n",
       "    .dataframe thead th {\n",
       "        text-align: right;\n",
       "    }\n",
       "</style>\n",
       "<table border=\"1\" class=\"dataframe\">\n",
       "  <thead>\n",
       "    <tr style=\"text-align: right;\">\n",
       "      <th></th>\n",
       "      <th>franchise_name</th>\n",
       "      <th>count</th>\n",
       "      <th>mean</th>\n",
       "      <th>sum</th>\n",
       "    </tr>\n",
       "  </thead>\n",
       "  <tbody>\n",
       "    <tr>\n",
       "      <th>452</th>\n",
       "      <td>Harry Potter Collection</td>\n",
       "      <td>8</td>\n",
       "      <td>9.634209e+08</td>\n",
       "      <td>7.707367e+09</td>\n",
       "    </tr>\n",
       "    <tr>\n",
       "      <th>926</th>\n",
       "      <td>Star Wars Collection</td>\n",
       "      <td>8</td>\n",
       "      <td>9.293118e+08</td>\n",
       "      <td>7.434495e+09</td>\n",
       "    </tr>\n",
       "    <tr>\n",
       "      <th>529</th>\n",
       "      <td>James Bond Collection</td>\n",
       "      <td>26</td>\n",
       "      <td>2.733450e+08</td>\n",
       "      <td>7.106970e+09</td>\n",
       "    </tr>\n",
       "    <tr>\n",
       "      <th>1059</th>\n",
       "      <td>The Fast and the Furious Collection</td>\n",
       "      <td>8</td>\n",
       "      <td>6.406373e+08</td>\n",
       "      <td>5.125099e+09</td>\n",
       "    </tr>\n",
       "    <tr>\n",
       "      <th>771</th>\n",
       "      <td>Pirates of the Caribbean Collection</td>\n",
       "      <td>5</td>\n",
       "      <td>9.043154e+08</td>\n",
       "      <td>4.521577e+09</td>\n",
       "    </tr>\n",
       "  </tbody>\n",
       "</table>\n",
       "</div>"
      ],
      "text/plain": [
       "                           franchise_name  count          mean           sum\n",
       "452               Harry Potter Collection      8  9.634209e+08  7.707367e+09\n",
       "926                  Star Wars Collection      8  9.293118e+08  7.434495e+09\n",
       "529                 James Bond Collection     26  2.733450e+08  7.106970e+09\n",
       "1059  The Fast and the Furious Collection      8  6.406373e+08  5.125099e+09\n",
       "771   Pirates of the Caribbean Collection      5  9.043154e+08  4.521577e+09"
      ]
     },
     "execution_count": 26,
     "metadata": {},
     "output_type": "execute_result"
    }
   ],
   "source": [
    "# most successful franchises (by total gross)\n",
    "fran_pivot.sort_values('sum', ascending=False).head(5)"
   ]
  },
  {
   "cell_type": "code",
   "execution_count": 27,
   "metadata": {
    "collapsed": false,
    "deletable": true,
    "editable": true
   },
   "outputs": [
    {
     "data": {
      "text/html": [
       "<div>\n",
       "<style scoped>\n",
       "    .dataframe tbody tr th:only-of-type {\n",
       "        vertical-align: middle;\n",
       "    }\n",
       "\n",
       "    .dataframe tbody tr th {\n",
       "        vertical-align: top;\n",
       "    }\n",
       "\n",
       "    .dataframe thead th {\n",
       "        text-align: right;\n",
       "    }\n",
       "</style>\n",
       "<table border=\"1\" class=\"dataframe\">\n",
       "  <thead>\n",
       "    <tr style=\"text-align: right;\">\n",
       "      <th></th>\n",
       "      <th>franchise_name</th>\n",
       "      <th>count</th>\n",
       "      <th>mean</th>\n",
       "      <th>sum</th>\n",
       "    </tr>\n",
       "  </thead>\n",
       "  <tbody>\n",
       "    <tr>\n",
       "      <th>529</th>\n",
       "      <td>James Bond Collection</td>\n",
       "      <td>26</td>\n",
       "      <td>2.733450e+08</td>\n",
       "      <td>7.106970e+09</td>\n",
       "    </tr>\n",
       "    <tr>\n",
       "      <th>389</th>\n",
       "      <td>Friday the 13th Collection</td>\n",
       "      <td>12</td>\n",
       "      <td>3.874155e+07</td>\n",
       "      <td>4.648985e+08</td>\n",
       "    </tr>\n",
       "    <tr>\n",
       "      <th>777</th>\n",
       "      <td>Pokémon Collection</td>\n",
       "      <td>11</td>\n",
       "      <td>6.348189e+07</td>\n",
       "      <td>6.983008e+08</td>\n",
       "    </tr>\n",
       "    <tr>\n",
       "      <th>926</th>\n",
       "      <td>Star Wars Collection</td>\n",
       "      <td>8</td>\n",
       "      <td>9.293118e+08</td>\n",
       "      <td>7.434495e+09</td>\n",
       "    </tr>\n",
       "    <tr>\n",
       "      <th>1059</th>\n",
       "      <td>The Fast and the Furious Collection</td>\n",
       "      <td>8</td>\n",
       "      <td>6.406373e+08</td>\n",
       "      <td>5.125099e+09</td>\n",
       "    </tr>\n",
       "  </tbody>\n",
       "</table>\n",
       "</div>"
      ],
      "text/plain": [
       "                           franchise_name  count          mean           sum\n",
       "529                 James Bond Collection     26  2.733450e+08  7.106970e+09\n",
       "389            Friday the 13th Collection     12  3.874155e+07  4.648985e+08\n",
       "777                    Pokémon Collection     11  6.348189e+07  6.983008e+08\n",
       "926                  Star Wars Collection      8  9.293118e+08  7.434495e+09\n",
       "1059  The Fast and the Furious Collection      8  6.406373e+08  5.125099e+09"
      ]
     },
     "execution_count": 27,
     "metadata": {},
     "output_type": "execute_result"
    }
   ],
   "source": [
    "# longest running franchises\n",
    "fran_pivot.sort_values('count', ascending=False).head(5)"
   ]
  },
  {
   "cell_type": "code",
   "execution_count": 28,
   "metadata": {
    "collapsed": false,
    "deletable": true,
    "editable": true
   },
   "outputs": [
    {
     "data": {
      "image/png": "[encoded data removed]",
      "text/plain": [
       "<matplotlib.figure.Figure at 0x7fbf5a96e470>"
      ]
     },
     "metadata": {},
     "output_type": "display_data"
    }
   ],
   "source": [
    "temp = df['production_companies'].str.extractall(r'\\'name\\': \\'(?P<companie>[\\w\\d\\s]*)\\'')\\\n",
    ".reset_index()['companie']\n",
    "\n",
    "temp = temp.value_counts().reset_index().head(10)\n",
    "temp['percent'] = 100 * (temp['companie'] / temp['companie'].sum())\n",
    "\n",
    "plt.figure(figsize=(8, 8))\n",
    "plt.title('Top 10 companies by amount of movie production', size=15)\n",
    "patches, texts = plt.pie(x=temp['companie'], labels=temp['index'] + temp['percent'].apply(\", {:2.0f}%\".format), \n",
    "                         startangle=90)\n",
    "[text.set_fontsize(14) for text in texts];"
   ]
  },
  {
   "cell_type": "code",
   "execution_count": 29,
   "metadata": {
    "collapsed": true,
    "deletable": true,
    "editable": true
   },
   "outputs": [],
   "source": [
    "# create new feature that is first company from production companies\n",
    "df['companie_name'] = df['production_companies'].str.extract(r'\\'name\\': \\'(?P<companie>[\\w\\d\\s]*)\\'', \n",
    "                                                               expand=True)\n",
    "\n",
    "comp_pivot = df.pivot_table(index='companie_name', values='revenue', \n",
    "                            aggfunc={'revenue': ['mean', 'sum', 'count']}).reset_index()"
   ]
  },
  {
   "cell_type": "code",
   "execution_count": 30,
   "metadata": {
    "collapsed": false,
    "deletable": true,
    "editable": true
   },
   "outputs": [
    {
     "data": {
      "text/html": [
       "<div>\n",
       "<style scoped>\n",
       "    .dataframe tbody tr th:only-of-type {\n",
       "        vertical-align: middle;\n",
       "    }\n",
       "\n",
       "    .dataframe tbody tr th {\n",
       "        vertical-align: top;\n",
       "    }\n",
       "\n",
       "    .dataframe thead th {\n",
       "        text-align: right;\n",
       "    }\n",
       "</style>\n",
       "<table border=\"1\" class=\"dataframe\">\n",
       "  <thead>\n",
       "    <tr style=\"text-align: right;\">\n",
       "      <th></th>\n",
       "      <th>companie_name</th>\n",
       "      <th>count</th>\n",
       "      <th>mean</th>\n",
       "      <th>sum</th>\n",
       "    </tr>\n",
       "  </thead>\n",
       "  <tbody>\n",
       "    <tr>\n",
       "      <th>6556</th>\n",
       "      <td>Paramount Pictures</td>\n",
       "      <td>385</td>\n",
       "      <td>1.216220e+08</td>\n",
       "      <td>4.682446e+10</td>\n",
       "    </tr>\n",
       "    <tr>\n",
       "      <th>9064</th>\n",
       "      <td>Universal Pictures</td>\n",
       "      <td>400</td>\n",
       "      <td>1.153156e+08</td>\n",
       "      <td>4.612623e+10</td>\n",
       "    </tr>\n",
       "    <tr>\n",
       "      <th>9314</th>\n",
       "      <td>Walt Disney Pictures</td>\n",
       "      <td>146</td>\n",
       "      <td>2.724741e+08</td>\n",
       "      <td>3.978121e+10</td>\n",
       "    </tr>\n",
       "    <tr>\n",
       "      <th>1983</th>\n",
       "      <td>Columbia Pictures</td>\n",
       "      <td>234</td>\n",
       "      <td>1.363581e+08</td>\n",
       "      <td>3.190780e+10</td>\n",
       "    </tr>\n",
       "    <tr>\n",
       "      <th>8947</th>\n",
       "      <td>Twentieth Century Fox Film Corporation</td>\n",
       "      <td>290</td>\n",
       "      <td>1.075268e+08</td>\n",
       "      <td>3.118277e+10</td>\n",
       "    </tr>\n",
       "  </tbody>\n",
       "</table>\n",
       "</div>"
      ],
      "text/plain": [
       "                               companie_name  count          mean  \\\n",
       "6556                      Paramount Pictures    385  1.216220e+08   \n",
       "9064                      Universal Pictures    400  1.153156e+08   \n",
       "9314                    Walt Disney Pictures    146  2.724741e+08   \n",
       "1983                       Columbia Pictures    234  1.363581e+08   \n",
       "8947  Twentieth Century Fox Film Corporation    290  1.075268e+08   \n",
       "\n",
       "               sum  \n",
       "6556  4.682446e+10  \n",
       "9064  4.612623e+10  \n",
       "9314  3.978121e+10  \n",
       "1983  3.190780e+10  \n",
       "8947  3.118277e+10  "
      ]
     },
     "execution_count": 30,
     "metadata": {},
     "output_type": "execute_result"
    }
   ],
   "source": [
    "# First and second place is Paramount Pictures and Universal Pictures both of them have 46 billion dollars in \n",
    "# revenue, third place is Walt Disney\n",
    "comp_pivot.sort_values('sum', ascending=False).head(5)"
   ]
  },
  {
   "cell_type": "code",
   "execution_count": 31,
   "metadata": {
    "collapsed": false,
    "deletable": true,
    "editable": true
   },
   "outputs": [
    {
     "data": {
      "text/html": [
       "<div>\n",
       "<style scoped>\n",
       "    .dataframe tbody tr th:only-of-type {\n",
       "        vertical-align: middle;\n",
       "    }\n",
       "\n",
       "    .dataframe tbody tr th {\n",
       "        vertical-align: top;\n",
       "    }\n",
       "\n",
       "    .dataframe thead th {\n",
       "        text-align: right;\n",
       "    }\n",
       "</style>\n",
       "<table border=\"1\" class=\"dataframe\">\n",
       "  <thead>\n",
       "    <tr style=\"text-align: right;\">\n",
       "      <th></th>\n",
       "      <th>companie_name</th>\n",
       "      <th>count</th>\n",
       "      <th>mean</th>\n",
       "      <th>sum</th>\n",
       "    </tr>\n",
       "  </thead>\n",
       "  <tbody>\n",
       "    <tr>\n",
       "      <th>6081</th>\n",
       "      <td>Walt Disney Pictures</td>\n",
       "      <td>106</td>\n",
       "      <td>3.228229e+08</td>\n",
       "      <td>3.421923e+10</td>\n",
       "    </tr>\n",
       "    <tr>\n",
       "      <th>5902</th>\n",
       "      <td>Universal Pictures</td>\n",
       "      <td>188</td>\n",
       "      <td>1.667682e+08</td>\n",
       "      <td>3.135243e+10</td>\n",
       "    </tr>\n",
       "    <tr>\n",
       "      <th>4256</th>\n",
       "      <td>Paramount Pictures</td>\n",
       "      <td>163</td>\n",
       "      <td>1.821819e+08</td>\n",
       "      <td>2.969565e+10</td>\n",
       "    </tr>\n",
       "    <tr>\n",
       "      <th>1289</th>\n",
       "      <td>Columbia Pictures</td>\n",
       "      <td>145</td>\n",
       "      <td>1.943756e+08</td>\n",
       "      <td>2.818446e+10</td>\n",
       "    </tr>\n",
       "    <tr>\n",
       "      <th>5822</th>\n",
       "      <td>Twentieth Century Fox Film Corporation</td>\n",
       "      <td>112</td>\n",
       "      <td>1.726792e+08</td>\n",
       "      <td>1.934007e+10</td>\n",
       "    </tr>\n",
       "  </tbody>\n",
       "</table>\n",
       "</div>"
      ],
      "text/plain": [
       "                               companie_name  count          mean  \\\n",
       "6081                    Walt Disney Pictures    106  3.228229e+08   \n",
       "5902                      Universal Pictures    188  1.667682e+08   \n",
       "4256                      Paramount Pictures    163  1.821819e+08   \n",
       "1289                       Columbia Pictures    145  1.943756e+08   \n",
       "5822  Twentieth Century Fox Film Corporation    112  1.726792e+08   \n",
       "\n",
       "               sum  \n",
       "6081  3.421923e+10  \n",
       "5902  3.135243e+10  \n",
       "4256  2.969565e+10  \n",
       "1289  2.818446e+10  \n",
       "5822  1.934007e+10  "
      ]
     },
     "execution_count": 31,
     "metadata": {},
     "output_type": "execute_result"
    }
   ],
   "source": [
    "# In recent years Walt Disney takes leading position\n",
    "comp_pivot = df.loc[df['year'] >= 2000].pivot_table(index='companie_name', values='revenue', \n",
    "                                                    aggfunc={'revenue': ['mean', 'sum', 'count']}).reset_index()\n",
    "comp_pivot.sort_values('sum', ascending=False).head(5)"
   ]
  },
  {
   "cell_type": "code",
   "execution_count": 32,
   "metadata": {
    "collapsed": false,
    "deletable": true,
    "editable": true
   },
   "outputs": [],
   "source": [
    "# fill NA values\n",
    "df['country_name'] = df['country_name'].fillna('unknown')\n",
    "df['franchise_name'] = df['franchise_name'].fillna('unknown')\n",
    "df['companie_name'] = df['companie_name'].fillna('unknown')"
   ]
  },
  {
   "cell_type": "code",
   "execution_count": 33,
   "metadata": {
    "collapsed": false,
    "deletable": true,
    "editable": true
   },
   "outputs": [
    {
     "data": {
      "image/png": "[encoded data removed]",
      "text/plain": [
       "<matplotlib.figure.Figure at 0x7fbf5a73c898>"
      ]
     },
     "metadata": {},
     "output_type": "display_data"
    }
   ],
   "source": [
    "# There are about 10 times more movies in english than in any other language\n",
    "df['original_language'].value_counts().head(10).plot(kind='bar', log=True)\n",
    "\n",
    "plt.title('Top 10 languages in film production', size=15)\n",
    "plt.grid(True, axis='y')\n",
    "plt.ylabel('Log frequency', size=14)\n",
    "plt.xlabel('Languages', size=14)\n",
    "plt.xticks(size=13, rotation=0);"
   ]
  },
  {
   "cell_type": "code",
   "execution_count": 34,
   "metadata": {
    "collapsed": false,
    "deletable": true,
    "editable": true
   },
   "outputs": [
    {
     "data": {
      "text/plain": [
       "count    45014.000000\n",
       "mean         2.938845\n",
       "std          6.023508\n",
       "min          0.000000\n",
       "25%          0.390898\n",
       "50%          1.135355\n",
       "75%          3.729833\n",
       "max        547.488298\n",
       "Name: popularity, dtype: float64"
      ]
     },
     "execution_count": 34,
     "metadata": {},
     "output_type": "execute_result"
    }
   ],
   "source": [
    "df['popularity'] = pd.to_numeric(df['popularity'], errors='coerce')\n",
    "df['popularity'].describe()"
   ]
  },
  {
   "cell_type": "code",
   "execution_count": 35,
   "metadata": {
    "collapsed": false,
    "deletable": true,
    "editable": true
   },
   "outputs": [
    {
     "data": {
      "image/png": "[encoded data removed]",
      "text/plain": [
       "<matplotlib.figure.Figure at 0x7fbf3145fe48>"
      ]
     },
     "metadata": {},
     "output_type": "display_data"
    }
   ],
   "source": [
    "# Extremely skewed distribution\n",
    "df['popularity'].plot(kind='hist', log=True, bins=15)\n",
    "\n",
    "plt.title('Histogram of popularity feature', size=15)\n",
    "plt.ylabel('Log frequency', size=14)\n",
    "plt.xlabel('Popularity', size=14);"
   ]
  },
  {
   "cell_type": "code",
   "execution_count": 36,
   "metadata": {
    "collapsed": false,
    "deletable": true,
    "editable": true
   },
   "outputs": [
    {
     "data": {
      "text/plain": [
       "count      36.000000\n",
       "mean     2012.805556\n",
       "std         7.970730\n",
       "min      1982.000000\n",
       "25%      2014.000000\n",
       "50%      2016.000000\n",
       "75%      2017.000000\n",
       "max      2017.000000\n",
       "Name: year, dtype: float64"
      ]
     },
     "execution_count": 36,
     "metadata": {},
     "output_type": "execute_result"
    }
   ],
   "source": [
    "# Strange feature most \"popular\" films are quit new and there are very few of them\n",
    "# It seems that these high values are outliers and should be scaled or dropped if sensitive model will be used\n",
    "df.loc[df['popularity'] > 50, 'year'].describe()"
   ]
  },
  {
   "cell_type": "code",
   "execution_count": 37,
   "metadata": {
    "collapsed": false,
    "deletable": true,
    "editable": true
   },
   "outputs": [
    {
     "data": {
      "text/plain": [
       "(3118, 25)"
      ]
     },
     "execution_count": 37,
     "metadata": {},
     "output_type": "execute_result"
    }
   ],
   "source": [
    "# about 10% of movies has lowest or highest score\n",
    "# most likely this is films with small amount of votes or they were artificially up voted to have highest score\n",
    "df.loc[(df['vote_average'] == 0) | (df['vote_average'] == 10)].shape"
   ]
  },
  {
   "cell_type": "code",
   "execution_count": 38,
   "metadata": {
    "collapsed": false,
    "deletable": true,
    "editable": true
   },
   "outputs": [
    {
     "data": {
      "text/plain": [
       "(23343, 25)"
      ]
     },
     "execution_count": 38,
     "metadata": {},
     "output_type": "execute_result"
    }
   ],
   "source": [
    "# there are lots of movies with small amount votes, they can be influenced by outliers\n",
    "# there is need in some transformation to show that this scores are not reliable\n",
    "df.loc[df['vote_count'] <= 10].shape"
   ]
  },
  {
   "cell_type": "code",
   "execution_count": 39,
   "metadata": {
    "collapsed": false,
    "deletable": true,
    "editable": true
   },
   "outputs": [],
   "source": [
    "# Names of directors, producers and other production positions\n",
    "jobs = ['Director', 'Screenplay', 'Producer', 'Executive Producer', 'Music', 'Director of Photography']\n",
    "paterns = [re.compile('\\'job\\': \\'{}\\', \\'name\\': \\'([\\w\\s\\d\\.,-]*)\\''.format(job)) for job in jobs]\n",
    "for i, job in enumerate(jobs):\n",
    "    df['crew_{}'.format(job)] = df['crew'].str.extract(paterns[i], expand=False)\n",
    "\n",
    "# First five actors & actresses names\n",
    "for act_number in range(3): \n",
    "    df['cast_{}'.format(act_number+1)] = df['cast'].str.split('\\}, \\{').str.get(act_number)\\\n",
    "    .str.extract('\\'name\\': \\'([\\w\\s\\d\\.,-]*)\\'', expand=False)\n",
    "    df['cast_gender_{}'.format(act_number+1)] = df['cast'].str.split('\\}, \\{').str.get(act_number)\\\n",
    "    .str.extract('\\'gender\\': ([\\d]*)', expand=False)\n",
    "\n",
    "# First three genres from description\n",
    "for genre_number in range(3):\n",
    "    df['genres_{}'.format(genre_number+1)] = df['genres'].str.split('\\}, \\{').str.get(genre_number)\\\n",
    "    .str.extract('\\'name\\': \\'([\\w\\s\\d\\.,-]*)\\'', expand=False)    "
   ]
  },
  {
   "cell_type": "code",
   "execution_count": 40,
   "metadata": {
    "collapsed": false,
    "deletable": true,
    "editable": true
   },
   "outputs": [],
   "source": [
    "df['cast_count'] = df['cast'].str.count('character')\n",
    "df['crew_count'] = df['crew'].str.count('name')\n",
    "df['country_count'] = df['production_countries'].str.count('name')\n",
    "df['company_count'] = df['production_companies'].str.count('name')"
   ]
  },
  {
   "cell_type": "code",
   "execution_count": 41,
   "metadata": {
    "collapsed": false,
    "deletable": true,
    "editable": true
   },
   "outputs": [
    {
     "data": {
      "text/html": [
       "<div>\n",
       "<style scoped>\n",
       "    .dataframe tbody tr th:only-of-type {\n",
       "        vertical-align: middle;\n",
       "    }\n",
       "\n",
       "    .dataframe tbody tr th {\n",
       "        vertical-align: top;\n",
       "    }\n",
       "\n",
       "    .dataframe thead th {\n",
       "        text-align: right;\n",
       "    }\n",
       "</style>\n",
       "<table border=\"1\" class=\"dataframe\">\n",
       "  <thead>\n",
       "    <tr style=\"text-align: right;\">\n",
       "      <th></th>\n",
       "      <th>Director</th>\n",
       "      <th>count_Dir</th>\n",
       "      <th>Screenplay</th>\n",
       "      <th>count_Scr</th>\n",
       "      <th>Producer</th>\n",
       "      <th>count_Pro</th>\n",
       "      <th>Executive Producer</th>\n",
       "      <th>count_Exe</th>\n",
       "      <th>Music</th>\n",
       "      <th>count_Mus</th>\n",
       "      <th>Director of Photography</th>\n",
       "      <th>count_Dir</th>\n",
       "    </tr>\n",
       "  </thead>\n",
       "  <tbody>\n",
       "    <tr>\n",
       "      <th>0</th>\n",
       "      <td>John Ford</td>\n",
       "      <td>68</td>\n",
       "      <td>Ben Hecht</td>\n",
       "      <td>35</td>\n",
       "      <td>Darryl F. Zanuck</td>\n",
       "      <td>75</td>\n",
       "      <td>Bob Weinstein</td>\n",
       "      <td>101</td>\n",
       "      <td>Ennio Morricone</td>\n",
       "      <td>31</td>\n",
       "      <td>Charles Lang</td>\n",
       "      <td>78</td>\n",
       "    </tr>\n",
       "    <tr>\n",
       "      <th>1</th>\n",
       "      <td>Michael Curtiz</td>\n",
       "      <td>65</td>\n",
       "      <td>Woody Allen</td>\n",
       "      <td>33</td>\n",
       "      <td>Walt Disney</td>\n",
       "      <td>73</td>\n",
       "      <td>Harvey Weinstein</td>\n",
       "      <td>99</td>\n",
       "      <td>Mark Isham</td>\n",
       "      <td>28</td>\n",
       "      <td>Harry Stradling Sr.</td>\n",
       "      <td>66</td>\n",
       "    </tr>\n",
       "    <tr>\n",
       "      <th>2</th>\n",
       "      <td>Werner Herzog</td>\n",
       "      <td>55</td>\n",
       "      <td>Ernesto Gastaldi</td>\n",
       "      <td>30</td>\n",
       "      <td>Hal B. Wallis</td>\n",
       "      <td>69</td>\n",
       "      <td>Hal B. Wallis</td>\n",
       "      <td>60</td>\n",
       "      <td>John Debney</td>\n",
       "      <td>27</td>\n",
       "      <td>William H. Daniels</td>\n",
       "      <td>65</td>\n",
       "    </tr>\n",
       "    <tr>\n",
       "      <th>3</th>\n",
       "      <td>Alfred Hitchcock</td>\n",
       "      <td>53</td>\n",
       "      <td>Nunnally Johnson</td>\n",
       "      <td>29</td>\n",
       "      <td>Brian Grazer</td>\n",
       "      <td>67</td>\n",
       "      <td>Roger Corman</td>\n",
       "      <td>58</td>\n",
       "      <td>Theodore Shapiro</td>\n",
       "      <td>22</td>\n",
       "      <td>James Wong Howe</td>\n",
       "      <td>58</td>\n",
       "    </tr>\n",
       "    <tr>\n",
       "      <th>4</th>\n",
       "      <td>Georges Méliès</td>\n",
       "      <td>49</td>\n",
       "      <td>Dudley Nichols</td>\n",
       "      <td>29</td>\n",
       "      <td>Scott Rudin</td>\n",
       "      <td>62</td>\n",
       "      <td>Bruce Berman</td>\n",
       "      <td>57</td>\n",
       "      <td>Alan Silvestri</td>\n",
       "      <td>20</td>\n",
       "      <td>Joseph F. Biroc</td>\n",
       "      <td>54</td>\n",
       "    </tr>\n",
       "  </tbody>\n",
       "</table>\n",
       "</div>"
      ],
      "text/plain": [
       "           Director  count_Dir        Screenplay  count_Scr          Producer  \\\n",
       "0         John Ford         68         Ben Hecht         35  Darryl F. Zanuck   \n",
       "1    Michael Curtiz         65       Woody Allen         33       Walt Disney   \n",
       "2     Werner Herzog         55  Ernesto Gastaldi         30     Hal B. Wallis   \n",
       "3  Alfred Hitchcock         53  Nunnally Johnson         29      Brian Grazer   \n",
       "4    Georges Méliès         49    Dudley Nichols         29       Scott Rudin   \n",
       "\n",
       "   count_Pro Executive Producer  count_Exe             Music  count_Mus  \\\n",
       "0         75      Bob Weinstein        101   Ennio Morricone         31   \n",
       "1         73   Harvey Weinstein         99        Mark Isham         28   \n",
       "2         69      Hal B. Wallis         60       John Debney         27   \n",
       "3         67       Roger Corman         58  Theodore Shapiro         22   \n",
       "4         62       Bruce Berman         57    Alan Silvestri         20   \n",
       "\n",
       "  Director of Photography  count_Dir  \n",
       "0            Charles Lang         78  \n",
       "1     Harry Stradling Sr.         66  \n",
       "2      William H. Daniels         65  \n",
       "3         James Wong Howe         58  \n",
       "4         Joseph F. Biroc         54  "
      ]
     },
     "execution_count": 41,
     "metadata": {},
     "output_type": "execute_result"
    }
   ],
   "source": [
    "# Table with 10 most productive directors and other roles in movie creators\n",
    "temp = pd.DataFrame()\n",
    "\n",
    "for job in jobs:\n",
    "    p = re.compile('\\'job\\': \\'{}\\', \\'name\\': \\'(?P<name>[\\w\\s\\d\\.,-]*)\\''.format(job))\n",
    "    temp = pd.concat([temp, \n",
    "                      df['crew'].str.extractall(p).reset_index()['name'].value_counts()\\\n",
    "                      .reset_index().head(5).rename(columns={'index': job, 'name': 'count_' + job[:3]})\n",
    "                     ], axis=1)\n",
    "temp"
   ]
  },
  {
   "cell_type": "code",
   "execution_count": 42,
   "metadata": {
    "collapsed": false,
    "deletable": true,
    "editable": true
   },
   "outputs": [
    {
     "data": {
      "text/html": [
       "<div>\n",
       "<style scoped>\n",
       "    .dataframe tbody tr th:only-of-type {\n",
       "        vertical-align: middle;\n",
       "    }\n",
       "\n",
       "    .dataframe tbody tr th {\n",
       "        vertical-align: top;\n",
       "    }\n",
       "\n",
       "    .dataframe thead th {\n",
       "        text-align: right;\n",
       "    }\n",
       "</style>\n",
       "<table border=\"1\" class=\"dataframe\">\n",
       "  <thead>\n",
       "    <tr style=\"text-align: right;\">\n",
       "      <th></th>\n",
       "      <th>gender</th>\n",
       "      <th>count</th>\n",
       "    </tr>\n",
       "  </thead>\n",
       "  <tbody>\n",
       "    <tr>\n",
       "      <th>0</th>\n",
       "      <td>0</td>\n",
       "      <td>31731</td>\n",
       "    </tr>\n",
       "    <tr>\n",
       "      <th>1</th>\n",
       "      <td>1</td>\n",
       "      <td>33769</td>\n",
       "    </tr>\n",
       "    <tr>\n",
       "      <th>2</th>\n",
       "      <td>2</td>\n",
       "      <td>58946</td>\n",
       "    </tr>\n",
       "  </tbody>\n",
       "</table>\n",
       "</div>"
      ],
      "text/plain": [
       "  gender  count\n",
       "0      0  31731\n",
       "1      1  33769\n",
       "2      2  58946"
      ]
     },
     "execution_count": 42,
     "metadata": {},
     "output_type": "execute_result"
    }
   ],
   "source": [
    "# 2 male, 1, female, 0 unknown\n",
    "(df['cast_gender_1'].value_counts() + df['cast_gender_2'].value_counts() + df['cast_gender_3'].value_counts())\\\n",
    ".reset_index().rename(columns={0: 'count', 'index': 'gender'})"
   ]
  },
  {
   "cell_type": "code",
   "execution_count": 43,
   "metadata": {
    "collapsed": false,
    "deletable": true,
    "editable": true
   },
   "outputs": [
    {
     "data": {
      "image/png": "[encoded data removed]",
      "text/plain": [
       "<matplotlib.figure.Figure at 0x7fbf30f7f278>"
      ]
     },
     "metadata": {},
     "output_type": "display_data"
    }
   ],
   "source": [
    "df.groupby('cast_1')['revenue'].sum().sort_values(ascending=False).head(10).plot(kind='bar')\n",
    "\n",
    "plt.title('First role with the highest total revenue', size=15)\n",
    "plt.grid(True, axis='y')\n",
    "plt.ylabel('Total revenue, $', size=14)\n",
    "plt.xlabel('Actors & actresses names', size=14)\n",
    "plt.xticks(size=13, rotation=70);"
   ]
  },
  {
   "cell_type": "code",
   "execution_count": 44,
   "metadata": {
    "collapsed": false,
    "deletable": true,
    "editable": true
   },
   "outputs": [
    {
     "data": {
      "image/png": "[encoded data removed]",
      "text/plain": [
       "<matplotlib.figure.Figure at 0x7fbf5a7cb208>"
      ]
     },
     "metadata": {},
     "output_type": "display_data"
    }
   ],
   "source": [
    "df.groupby('crew_Director')['revenue'].sum().sort_values(ascending=False).head(10).plot(kind='bar')\n",
    "\n",
    "plt.title('Directors with the highest total revenue', size=15)\n",
    "plt.grid(True, axis='y')\n",
    "plt.ylabel('Total revenue, $', size=14)\n",
    "plt.xlabel('Directors names', size=14)\n",
    "plt.xticks(size=13, rotation=70);"
   ]
  },
  {
   "cell_type": "code",
   "execution_count": 45,
   "metadata": {
    "collapsed": false,
    "deletable": true,
    "editable": true
   },
   "outputs": [
    {
     "data": {
      "text/plain": [
       "Bess Flowers         240\n",
       "Christopher Lee      148\n",
       "John Wayne           125\n",
       "Samuel L. Jackson    122\n",
       "Michael Caine        110\n",
       "Name: name, dtype: int64"
      ]
     },
     "execution_count": 45,
     "metadata": {},
     "output_type": "execute_result"
    }
   ],
   "source": [
    "# Most productive in total amount of created movies actors & actresses\n",
    "df['cast'].str.extractall('\\'name\\': \\'(?P<name>[\\w\\s\\d\\.,-]*)\\'').reset_index()['name'].value_counts().head()"
   ]
  },
  {
   "cell_type": "code",
   "execution_count": 46,
   "metadata": {
    "collapsed": false,
    "deletable": true,
    "editable": true
   },
   "outputs": [
    {
     "data": {
      "text/html": [
       "<div>\n",
       "<style scoped>\n",
       "    .dataframe tbody tr th:only-of-type {\n",
       "        vertical-align: middle;\n",
       "    }\n",
       "\n",
       "    .dataframe tbody tr th {\n",
       "        vertical-align: top;\n",
       "    }\n",
       "\n",
       "    .dataframe thead th {\n",
       "        text-align: right;\n",
       "    }\n",
       "</style>\n",
       "<table border=\"1\" class=\"dataframe\">\n",
       "  <thead>\n",
       "    <tr style=\"text-align: right;\">\n",
       "      <th></th>\n",
       "      <th>level_0</th>\n",
       "      <th>name</th>\n",
       "      <th>index</th>\n",
       "      <th>year</th>\n",
       "      <th>genres_1</th>\n",
       "      <th>success</th>\n",
       "    </tr>\n",
       "  </thead>\n",
       "  <tbody>\n",
       "    <tr>\n",
       "      <th>0</th>\n",
       "      <td>0</td>\n",
       "      <td>Tom Hanks</td>\n",
       "      <td>0</td>\n",
       "      <td>1995.0</td>\n",
       "      <td>Animation</td>\n",
       "      <td>12.451801</td>\n",
       "    </tr>\n",
       "    <tr>\n",
       "      <th>1</th>\n",
       "      <td>0</td>\n",
       "      <td>Tim Allen</td>\n",
       "      <td>0</td>\n",
       "      <td>1995.0</td>\n",
       "      <td>Animation</td>\n",
       "      <td>12.451801</td>\n",
       "    </tr>\n",
       "    <tr>\n",
       "      <th>2</th>\n",
       "      <td>0</td>\n",
       "      <td>Don Rickles</td>\n",
       "      <td>0</td>\n",
       "      <td>1995.0</td>\n",
       "      <td>Animation</td>\n",
       "      <td>12.451801</td>\n",
       "    </tr>\n",
       "    <tr>\n",
       "      <th>3</th>\n",
       "      <td>0</td>\n",
       "      <td>Jim Varney</td>\n",
       "      <td>0</td>\n",
       "      <td>1995.0</td>\n",
       "      <td>Animation</td>\n",
       "      <td>12.451801</td>\n",
       "    </tr>\n",
       "    <tr>\n",
       "      <th>4</th>\n",
       "      <td>0</td>\n",
       "      <td>Wallace Shawn</td>\n",
       "      <td>0</td>\n",
       "      <td>1995.0</td>\n",
       "      <td>Animation</td>\n",
       "      <td>12.451801</td>\n",
       "    </tr>\n",
       "  </tbody>\n",
       "</table>\n",
       "</div>"
      ],
      "text/plain": [
       "   level_0           name  index    year   genres_1    success\n",
       "0        0      Tom Hanks      0  1995.0  Animation  12.451801\n",
       "1        0      Tim Allen      0  1995.0  Animation  12.451801\n",
       "2        0    Don Rickles      0  1995.0  Animation  12.451801\n",
       "3        0     Jim Varney      0  1995.0  Animation  12.451801\n",
       "4        0  Wallace Shawn      0  1995.0  Animation  12.451801"
      ]
     },
     "execution_count": 46,
     "metadata": {},
     "output_type": "execute_result"
    }
   ],
   "source": [
    "# create table with all actors & actresses for each movie with it success rate and genre\n",
    "temp = df['cast'].str.extractall('\\'name\\': \\'(?P<name>[\\w\\s\\d\\.,-]*)\\'').reset_index()\n",
    "\n",
    "temp = pd.merge(left=temp[['level_0', 'name']], \n",
    "                right=df.reset_index()[['index', 'year', 'genres_1', 'success']], \n",
    "                left_on='level_0', right_on='index')\n",
    "\n",
    "temp.head()"
   ]
  },
  {
   "cell_type": "code",
   "execution_count": 47,
   "metadata": {
    "collapsed": false,
    "deletable": true,
    "editable": true
   },
   "outputs": [
    {
     "data": {
      "text/html": [
       "<div>\n",
       "<style scoped>\n",
       "    .dataframe tbody tr th:only-of-type {\n",
       "        vertical-align: middle;\n",
       "    }\n",
       "\n",
       "    .dataframe tbody tr th {\n",
       "        vertical-align: top;\n",
       "    }\n",
       "\n",
       "    .dataframe thead th {\n",
       "        text-align: right;\n",
       "    }\n",
       "</style>\n",
       "<table border=\"1\" class=\"dataframe\">\n",
       "  <thead>\n",
       "    <tr style=\"text-align: right;\">\n",
       "      <th></th>\n",
       "      <th>name</th>\n",
       "      <th>year</th>\n",
       "      <th>success</th>\n",
       "      <th>total_count</th>\n",
       "    </tr>\n",
       "  </thead>\n",
       "  <tbody>\n",
       "    <tr>\n",
       "      <th>0</th>\n",
       "      <td>Jorge de los Reyes</td>\n",
       "      <td>2013.0</td>\n",
       "      <td>NaN</td>\n",
       "      <td>1</td>\n",
       "    </tr>\n",
       "    <tr>\n",
       "      <th>1</th>\n",
       "      <td>Liu Jin</td>\n",
       "      <td>2009.0</td>\n",
       "      <td>NaN</td>\n",
       "      <td>1</td>\n",
       "    </tr>\n",
       "    <tr>\n",
       "      <th>2</th>\n",
       "      <td>Alistair Freeland</td>\n",
       "      <td>2005.0</td>\n",
       "      <td>NaN</td>\n",
       "      <td>1</td>\n",
       "    </tr>\n",
       "    <tr>\n",
       "      <th>3</th>\n",
       "      <td>Antanas Barčas</td>\n",
       "      <td>1965.0</td>\n",
       "      <td>NaN</td>\n",
       "      <td>2</td>\n",
       "    </tr>\n",
       "    <tr>\n",
       "      <th>4</th>\n",
       "      <td>Belen Blanco</td>\n",
       "      <td>2005.5</td>\n",
       "      <td>NaN</td>\n",
       "      <td>2</td>\n",
       "    </tr>\n",
       "  </tbody>\n",
       "</table>\n",
       "</div>"
      ],
      "text/plain": [
       "                    name    year  success  total_count\n",
       "0    Jorge de los Reyes   2013.0      NaN            1\n",
       "1                Liu Jin  2009.0      NaN            1\n",
       "2      Alistair Freeland  2005.0      NaN            1\n",
       "3         Antanas Barčas  1965.0      NaN            2\n",
       "4           Belen Blanco  2005.5      NaN            2"
      ]
     },
     "execution_count": 47,
     "metadata": {},
     "output_type": "execute_result"
    }
   ],
   "source": [
    "# for each actor & actress find mean year of their activity, number of movies, mean success rate \n",
    "act_stat = temp.groupby(by='name')[['year', 'success', 'index']]\\\n",
    ".aggregate({'year': 'mean', 'success': 'mean', 'index': 'count'}).reset_index()\\\n",
    ".rename(columns={'index': 'total_count'})\n",
    "act_stat.head()"
   ]
  },
  {
   "cell_type": "code",
   "execution_count": 48,
   "metadata": {
    "collapsed": false,
    "deletable": true,
    "editable": true
   },
   "outputs": [
    {
     "data": {
      "text/html": [
       "<div>\n",
       "<style scoped>\n",
       "    .dataframe tbody tr th:only-of-type {\n",
       "        vertical-align: middle;\n",
       "    }\n",
       "\n",
       "    .dataframe tbody tr th {\n",
       "        vertical-align: top;\n",
       "    }\n",
       "\n",
       "    .dataframe thead th {\n",
       "        text-align: right;\n",
       "    }\n",
       "</style>\n",
       "<table border=\"1\" class=\"dataframe\">\n",
       "  <thead>\n",
       "    <tr style=\"text-align: right;\">\n",
       "      <th></th>\n",
       "      <th>name</th>\n",
       "      <th>genre</th>\n",
       "      <th>genre_count</th>\n",
       "    </tr>\n",
       "  </thead>\n",
       "  <tbody>\n",
       "    <tr>\n",
       "      <th>0</th>\n",
       "      <td>Jorge de los Reyes</td>\n",
       "      <td>Drama</td>\n",
       "      <td>1</td>\n",
       "    </tr>\n",
       "    <tr>\n",
       "      <th>1</th>\n",
       "      <td>Liu Jin</td>\n",
       "      <td>Drama</td>\n",
       "      <td>1</td>\n",
       "    </tr>\n",
       "    <tr>\n",
       "      <th>2</th>\n",
       "      <td>Alistair Freeland</td>\n",
       "      <td>Horror</td>\n",
       "      <td>1</td>\n",
       "    </tr>\n",
       "    <tr>\n",
       "      <th>3</th>\n",
       "      <td>Antanas Barčas</td>\n",
       "      <td>Drama</td>\n",
       "      <td>2</td>\n",
       "    </tr>\n",
       "    <tr>\n",
       "      <th>4</th>\n",
       "      <td>Belen Blanco</td>\n",
       "      <td>Horror</td>\n",
       "      <td>1</td>\n",
       "    </tr>\n",
       "  </tbody>\n",
       "</table>\n",
       "</div>"
      ],
      "text/plain": [
       "                    name   genre  genre_count\n",
       "0    Jorge de los Reyes    Drama            1\n",
       "1                Liu Jin   Drama            1\n",
       "2      Alistair Freeland  Horror            1\n",
       "3         Antanas Barčas   Drama            2\n",
       "4           Belen Blanco  Horror            1"
      ]
     },
     "execution_count": 48,
     "metadata": {},
     "output_type": "execute_result"
    }
   ],
   "source": [
    "# for each actor & actress find it most common genre\n",
    "temp = temp.groupby(by=['name', 'genres_1'])['index'].count().reset_index()\\\n",
    ".sort_values(by=['name', 'index', 'genres_1'], ascending=False).groupby(by=['name']).nth(0).reset_index()\\\n",
    ".rename(columns={'index': 'genre_count', 'genres_1': 'genre'})\n",
    "temp.head()"
   ]
  },
  {
   "cell_type": "code",
   "execution_count": 49,
   "metadata": {
    "collapsed": false,
    "deletable": true,
    "editable": true
   },
   "outputs": [],
   "source": [
    "temp = temp.merge(act_stat, on='name')"
   ]
  },
  {
   "cell_type": "code",
   "execution_count": 50,
   "metadata": {
    "collapsed": false,
    "deletable": true,
    "editable": true
   },
   "outputs": [
    {
     "data": {
      "text/html": [
       "<div>\n",
       "<style scoped>\n",
       "    .dataframe tbody tr th:only-of-type {\n",
       "        vertical-align: middle;\n",
       "    }\n",
       "\n",
       "    .dataframe tbody tr th {\n",
       "        vertical-align: top;\n",
       "    }\n",
       "\n",
       "    .dataframe thead th {\n",
       "        text-align: right;\n",
       "    }\n",
       "</style>\n",
       "<table border=\"1\" class=\"dataframe\">\n",
       "  <thead>\n",
       "    <tr style=\"text-align: right;\">\n",
       "      <th></th>\n",
       "      <th>name</th>\n",
       "      <th>genre</th>\n",
       "      <th>genre_count</th>\n",
       "      <th>year</th>\n",
       "      <th>success</th>\n",
       "      <th>total_count</th>\n",
       "    </tr>\n",
       "  </thead>\n",
       "  <tbody>\n",
       "    <tr>\n",
       "      <th>59401</th>\n",
       "      <td>Frank Welker</td>\n",
       "      <td>Animation</td>\n",
       "      <td>41</td>\n",
       "      <td>2001.177570</td>\n",
       "      <td>4.526399</td>\n",
       "      <td>107</td>\n",
       "    </tr>\n",
       "    <tr>\n",
       "      <th>174504</th>\n",
       "      <td>Steven Seagal</td>\n",
       "      <td>Action</td>\n",
       "      <td>40</td>\n",
       "      <td>2004.604167</td>\n",
       "      <td>2.433600</td>\n",
       "      <td>48</td>\n",
       "    </tr>\n",
       "    <tr>\n",
       "      <th>40119</th>\n",
       "      <td>Danny Trejo</td>\n",
       "      <td>Action</td>\n",
       "      <td>40</td>\n",
       "      <td>2006.376238</td>\n",
       "      <td>2.305906</td>\n",
       "      <td>101</td>\n",
       "    </tr>\n",
       "    <tr>\n",
       "      <th>46195</th>\n",
       "      <td>Dolph Lundgren</td>\n",
       "      <td>Action</td>\n",
       "      <td>38</td>\n",
       "      <td>2005.123077</td>\n",
       "      <td>2.151407</td>\n",
       "      <td>65</td>\n",
       "    </tr>\n",
       "    <tr>\n",
       "      <th>18349</th>\n",
       "      <td>Ben Stiller</td>\n",
       "      <td>Comedy</td>\n",
       "      <td>37</td>\n",
       "      <td>2004.061538</td>\n",
       "      <td>2.914107</td>\n",
       "      <td>65</td>\n",
       "    </tr>\n",
       "    <tr>\n",
       "      <th>191274</th>\n",
       "      <td>Will Ferrell</td>\n",
       "      <td>Comedy</td>\n",
       "      <td>37</td>\n",
       "      <td>2006.686275</td>\n",
       "      <td>2.659625</td>\n",
       "      <td>51</td>\n",
       "    </tr>\n",
       "    <tr>\n",
       "      <th>173835</th>\n",
       "      <td>Steve Buscemi</td>\n",
       "      <td>Comedy</td>\n",
       "      <td>37</td>\n",
       "      <td>2001.584158</td>\n",
       "      <td>3.238205</td>\n",
       "      <td>101</td>\n",
       "    </tr>\n",
       "    <tr>\n",
       "      <th>146008</th>\n",
       "      <td>Paul Rudd</td>\n",
       "      <td>Comedy</td>\n",
       "      <td>36</td>\n",
       "      <td>2007.245283</td>\n",
       "      <td>2.971891</td>\n",
       "      <td>53</td>\n",
       "    </tr>\n",
       "    <tr>\n",
       "      <th>175689</th>\n",
       "      <td>Susan Sarandon</td>\n",
       "      <td>Drama</td>\n",
       "      <td>36</td>\n",
       "      <td>2000.358696</td>\n",
       "      <td>9.762461</td>\n",
       "      <td>92</td>\n",
       "    </tr>\n",
       "    <tr>\n",
       "      <th>164258</th>\n",
       "      <td>Samuel L. Jackson</td>\n",
       "      <td>Action</td>\n",
       "      <td>36</td>\n",
       "      <td>2002.483607</td>\n",
       "      <td>3.458106</td>\n",
       "      <td>122</td>\n",
       "    </tr>\n",
       "  </tbody>\n",
       "</table>\n",
       "</div>"
      ],
      "text/plain": [
       "                     name      genre  genre_count         year   success  \\\n",
       "59401        Frank Welker  Animation           41  2001.177570  4.526399   \n",
       "174504      Steven Seagal     Action           40  2004.604167  2.433600   \n",
       "40119         Danny Trejo     Action           40  2006.376238  2.305906   \n",
       "46195      Dolph Lundgren     Action           38  2005.123077  2.151407   \n",
       "18349         Ben Stiller     Comedy           37  2004.061538  2.914107   \n",
       "191274       Will Ferrell     Comedy           37  2006.686275  2.659625   \n",
       "173835      Steve Buscemi     Comedy           37  2001.584158  3.238205   \n",
       "146008          Paul Rudd     Comedy           36  2007.245283  2.971891   \n",
       "175689     Susan Sarandon      Drama           36  2000.358696  9.762461   \n",
       "164258  Samuel L. Jackson     Action           36  2002.483607  3.458106   \n",
       "\n",
       "        total_count  \n",
       "59401           107  \n",
       "174504           48  \n",
       "40119           101  \n",
       "46195            65  \n",
       "18349            65  \n",
       "191274           51  \n",
       "173835          101  \n",
       "146008           53  \n",
       "175689           92  \n",
       "164258          122  "
      ]
     },
     "execution_count": 50,
     "metadata": {},
     "output_type": "execute_result"
    }
   ],
   "source": [
    "# most stable recent popular actor & actress (play same genre)\n",
    "temp.loc[(temp[('year')] > 2000) & (temp['total_count'] > 10), :]\\\n",
    ".sort_values(by='genre_count', ascending=False).head(10)"
   ]
  },
  {
   "cell_type": "code",
   "execution_count": 51,
   "metadata": {
    "collapsed": false,
    "deletable": true,
    "editable": true,
    "scrolled": false
   },
   "outputs": [
    {
     "data": {
      "image/png": "[encoded data removed]",
      "text/plain": [
       "<matplotlib.figure.Figure at 0x7fbf04be77f0>"
      ]
     },
     "metadata": {},
     "output_type": "display_data"
    }
   ],
   "source": [
    "main_genres = ['Drama', 'Comedy', 'Thriller', 'Romance', 'Action', 'Horror', 'Crime', 'Adventure', \n",
    "               'Science Fiction', 'Mystery', 'Fantasy', 'Mystery', 'Animation']\n",
    "\n",
    "temp = df.loc[df['genres_1'].isin(main_genres) & (df['year'] >= 2000) \n",
    "              & (df['year'] <= 2016) & df['success'].notna()]\n",
    "\n",
    "result =temp.boxplot(column='success', by='genres_1', showfliers=False, rot=45, figsize=(12, 8), return_type='dict')\n",
    "\n",
    "[(med.set_color('r'), med.set_linewidth(2)) for med in result[0]['medians']]\n",
    "[ med.set_linewidth(2) for med in result[0]['boxes']]\n",
    "plt.title(\"Movie success rate by genre\", size=15)\n",
    "plt.xlabel('Genre', size=14)\n",
    "plt.xticks(size=13)\n",
    "plt.ylabel('Success rate', size=14);"
   ]
  },
  {
   "cell_type": "code",
   "execution_count": 52,
   "metadata": {
    "collapsed": false,
    "deletable": true,
    "editable": true
   },
   "outputs": [
    {
     "data": {
      "image/png": "[encoded data removed]",
      "text/plain": [
       "<matplotlib.figure.Figure at 0x7fbf04be7748>"
      ]
     },
     "metadata": {},
     "output_type": "display_data"
    }
   ],
   "source": [
    "# check tagline proportion in time \n",
    "def tagline_proporshion(x):\n",
    "    s = 0\n",
    "    for i in x:\n",
    "        if i is np.nan:\n",
    "            pass\n",
    "        else:\n",
    "            s += 1\n",
    "    return s / x.shape[0]\n",
    "\n",
    "temp = df.groupby(by='year')['tagline'].apply(tagline_proporshion).reset_index()\n",
    "\n",
    "plt.figure(figsize=(9, 6))\n",
    "plt.title('Proportion of films with tagline', size=15)\n",
    "plt.scatter(x=temp['year'], y=temp['tagline'])\n",
    "plt.plot(temp['year'], temp['tagline'].rolling(5).mean(), 'r')\n",
    "plt.xlabel('Year', size=14)\n",
    "plt.ylabel('Count', size=14);"
   ]
  },
  {
   "cell_type": "code",
   "execution_count": 53,
   "metadata": {
    "collapsed": false,
    "deletable": true,
    "editable": true
   },
   "outputs": [
    {
     "data": {
      "image/png": "[encoded data removed]",
      "text/plain": [
       "<matplotlib.figure.Figure at 0x7fbf067a2198>"
      ]
     },
     "metadata": {},
     "output_type": "display_data"
    }
   ],
   "source": [
    "temp = df.loc[df['genres_1'].isin(main_genres)].groupby(by='genres_1')['tagline']\\\n",
    ".apply(tagline_proporshion).reset_index().sort_values(by='tagline', ascending=False)\n",
    "\n",
    "plt.figure(figsize=(9, 6))\n",
    "plt.title('Proportion of films with tagline by genre', size=15)\n",
    "plt.bar(x=range(len(main_genres)-1), height=temp['tagline'], tick_label=temp['genres_1'])\n",
    "plt.xticks(rotation=45)\n",
    "plt.xlabel('Genre', size=14)\n",
    "plt.ylabel('Count', size=14);"
   ]
  },
  {
   "cell_type": "code",
   "execution_count": 54,
   "metadata": {
    "collapsed": false,
    "deletable": true,
    "editable": true
   },
   "outputs": [],
   "source": [
    "stop_words = set(nltk.corpus.stopwords.words('english')) "
   ]
  },
  {
   "cell_type": "code",
   "execution_count": 55,
   "metadata": {
    "collapsed": true,
    "deletable": true,
    "editable": true
   },
   "outputs": [],
   "source": [
    "def most_common_word(x, stop_words):\n",
    "    counter = collections.Counter()\n",
    "    wnl = nltk.WordNetLemmatizer()\n",
    "    \n",
    "    x = ' '.join(x)\n",
    "    x = re.sub(r\"[\\d\\W]+\", \" \", x)\n",
    "    x = nltk.tokenize.word_tokenize(x) \n",
    "    x = [wnl.lemmatize(w.lower()) for w in x if w.lower() not in stop_words] \n",
    "    counter.update(x)\n",
    "    \n",
    "    return [word.capitalize() for word, count in counter.most_common(10)]"
   ]
  },
  {
   "cell_type": "code",
   "execution_count": 56,
   "metadata": {
    "collapsed": false,
    "deletable": true,
    "editable": true
   },
   "outputs": [],
   "source": [
    "temp = df.loc[df['genres_1'].isin(main_genres) & df['tagline'].notna()].groupby(by='genres_1')['tagline']\\\n",
    ".apply(most_common_word, stop_words=stop_words)"
   ]
  },
  {
   "cell_type": "code",
   "execution_count": 57,
   "metadata": {
    "collapsed": false,
    "deletable": true,
    "editable": true
   },
   "outputs": [
    {
     "data": {
      "text/html": [
       "<div>\n",
       "<style scoped>\n",
       "    .dataframe tbody tr th:only-of-type {\n",
       "        vertical-align: middle;\n",
       "    }\n",
       "\n",
       "    .dataframe tbody tr th {\n",
       "        vertical-align: top;\n",
       "    }\n",
       "\n",
       "    .dataframe thead th {\n",
       "        text-align: right;\n",
       "    }\n",
       "</style>\n",
       "<table border=\"1\" class=\"dataframe\">\n",
       "  <thead>\n",
       "    <tr style=\"text-align: right;\">\n",
       "      <th></th>\n",
       "      <th>Action</th>\n",
       "      <th>Adventure</th>\n",
       "      <th>Animation</th>\n",
       "      <th>Comedy</th>\n",
       "      <th>Crime</th>\n",
       "      <th>Drama</th>\n",
       "      <th>Fantasy</th>\n",
       "      <th>Horror</th>\n",
       "      <th>Mystery</th>\n",
       "      <th>Romance</th>\n",
       "      <th>Science Fiction</th>\n",
       "      <th>Thriller</th>\n",
       "    </tr>\n",
       "  </thead>\n",
       "  <tbody>\n",
       "    <tr>\n",
       "      <th>0</th>\n",
       "      <td>One</td>\n",
       "      <td>Adventure</td>\n",
       "      <td>Adventure</td>\n",
       "      <td>Love</td>\n",
       "      <td>One</td>\n",
       "      <td>Love</td>\n",
       "      <td>World</td>\n",
       "      <td>Terror</td>\n",
       "      <td>Murder</td>\n",
       "      <td>Love</td>\n",
       "      <td>Man</td>\n",
       "      <td>One</td>\n",
       "    </tr>\n",
       "    <tr>\n",
       "      <th>1</th>\n",
       "      <td>Man</td>\n",
       "      <td>One</td>\n",
       "      <td>One</td>\n",
       "      <td>Comedy</td>\n",
       "      <td>Man</td>\n",
       "      <td>One</td>\n",
       "      <td>Love</td>\n",
       "      <td>Evil</td>\n",
       "      <td>Love</td>\n",
       "      <td>Story</td>\n",
       "      <td>World</td>\n",
       "      <td>Never</td>\n",
       "    </tr>\n",
       "    <tr>\n",
       "      <th>2</th>\n",
       "      <td>World</td>\n",
       "      <td>World</td>\n",
       "      <td>New</td>\n",
       "      <td>One</td>\n",
       "      <td>Murder</td>\n",
       "      <td>Story</td>\n",
       "      <td>Man</td>\n",
       "      <td>One</td>\n",
       "      <td>Secret</td>\n",
       "      <td>Life</td>\n",
       "      <td>Time</td>\n",
       "      <td>Love</td>\n",
       "    </tr>\n",
       "    <tr>\n",
       "      <th>3</th>\n",
       "      <td>Time</td>\n",
       "      <td>Time</td>\n",
       "      <td>World</td>\n",
       "      <td>Life</td>\n",
       "      <td>Killer</td>\n",
       "      <td>Life</td>\n",
       "      <td>One</td>\n",
       "      <td>Never</td>\n",
       "      <td>Every</td>\n",
       "      <td>One</td>\n",
       "      <td>Space</td>\n",
       "      <td>Life</td>\n",
       "    </tr>\n",
       "    <tr>\n",
       "      <th>4</th>\n",
       "      <td>Back</td>\n",
       "      <td>Man</td>\n",
       "      <td>Time</td>\n",
       "      <td>Get</td>\n",
       "      <td>Life</td>\n",
       "      <td>Man</td>\n",
       "      <td>Ever</td>\n",
       "      <td>Dead</td>\n",
       "      <td>Mystery</td>\n",
       "      <td>Never</td>\n",
       "      <td>Earth</td>\n",
       "      <td>Man</td>\n",
       "    </tr>\n",
       "    <tr>\n",
       "      <th>5</th>\n",
       "      <td>Get</td>\n",
       "      <td>Love</td>\n",
       "      <td>Love</td>\n",
       "      <td>Story</td>\n",
       "      <td>Love</td>\n",
       "      <td>Woman</td>\n",
       "      <td>Believe</td>\n",
       "      <td>Die</td>\n",
       "      <td>Ever</td>\n",
       "      <td>Woman</td>\n",
       "      <td>One</td>\n",
       "      <td>Time</td>\n",
       "    </tr>\n",
       "    <tr>\n",
       "      <th>6</th>\n",
       "      <td>Never</td>\n",
       "      <td>New</td>\n",
       "      <td>Back</td>\n",
       "      <td>Time</td>\n",
       "      <td>Story</td>\n",
       "      <td>World</td>\n",
       "      <td>Comedy</td>\n",
       "      <td>Hell</td>\n",
       "      <td>Life</td>\n",
       "      <td>Comedy</td>\n",
       "      <td>Future</td>\n",
       "      <td>Murder</td>\n",
       "    </tr>\n",
       "    <tr>\n",
       "      <th>7</th>\n",
       "      <td>Kill</td>\n",
       "      <td>Back</td>\n",
       "      <td>Get</td>\n",
       "      <td>Never</td>\n",
       "      <td>Way</td>\n",
       "      <td>Never</td>\n",
       "      <td>Story</td>\n",
       "      <td>Horror</td>\n",
       "      <td>Never</td>\n",
       "      <td>Man</td>\n",
       "      <td>Battle</td>\n",
       "      <td>Killer</td>\n",
       "    </tr>\n",
       "    <tr>\n",
       "      <th>8</th>\n",
       "      <td>Cop</td>\n",
       "      <td>Story</td>\n",
       "      <td>Life</td>\n",
       "      <td>Girl</td>\n",
       "      <td>Woman</td>\n",
       "      <td>Time</td>\n",
       "      <td>New</td>\n",
       "      <td>Fear</td>\n",
       "      <td>See</td>\n",
       "      <td>World</td>\n",
       "      <td>Year</td>\n",
       "      <td>Evil</td>\n",
       "    </tr>\n",
       "    <tr>\n",
       "      <th>9</th>\n",
       "      <td>Adventure</td>\n",
       "      <td>Hero</td>\n",
       "      <td>Family</td>\n",
       "      <td>Man</td>\n",
       "      <td>Crime</td>\n",
       "      <td>Two</td>\n",
       "      <td>Adventure</td>\n",
       "      <td>Come</td>\n",
       "      <td>Could</td>\n",
       "      <td>Girl</td>\n",
       "      <td>Human</td>\n",
       "      <td>Story</td>\n",
       "    </tr>\n",
       "  </tbody>\n",
       "</table>\n",
       "</div>"
      ],
      "text/plain": [
       "      Action  Adventure  Animation  Comedy   Crime  Drama    Fantasy  Horror  \\\n",
       "0        One  Adventure  Adventure    Love     One   Love      World  Terror   \n",
       "1        Man        One        One  Comedy     Man    One       Love    Evil   \n",
       "2      World      World        New     One  Murder  Story        Man     One   \n",
       "3       Time       Time      World    Life  Killer   Life        One   Never   \n",
       "4       Back        Man       Time     Get    Life    Man       Ever    Dead   \n",
       "5        Get       Love       Love   Story    Love  Woman    Believe     Die   \n",
       "6      Never        New       Back    Time   Story  World     Comedy    Hell   \n",
       "7       Kill       Back        Get   Never     Way  Never      Story  Horror   \n",
       "8        Cop      Story       Life    Girl   Woman   Time        New    Fear   \n",
       "9  Adventure       Hero     Family     Man   Crime    Two  Adventure    Come   \n",
       "\n",
       "   Mystery Romance Science Fiction Thriller  \n",
       "0   Murder    Love             Man      One  \n",
       "1     Love   Story           World    Never  \n",
       "2   Secret    Life            Time     Love  \n",
       "3    Every     One           Space     Life  \n",
       "4  Mystery   Never           Earth      Man  \n",
       "5     Ever   Woman             One     Time  \n",
       "6     Life  Comedy          Future   Murder  \n",
       "7    Never     Man          Battle   Killer  \n",
       "8      See   World            Year     Evil  \n",
       "9    Could    Girl           Human    Story  "
      ]
     },
     "execution_count": 57,
     "metadata": {},
     "output_type": "execute_result"
    }
   ],
   "source": [
    "# Most common words in headline in different genre and there are a lot of similarity between them\n",
    "pd.DataFrame(data={idx: temp[idx] for idx in temp.index})"
   ]
  },
  {
   "cell_type": "code",
   "execution_count": 58,
   "metadata": {
    "collapsed": true,
    "deletable": true,
    "editable": true
   },
   "outputs": [],
   "source": [
    "def preprocess_text(x, stop_words):\n",
    "    \"\"\"Remove special symbols and numbers, make lemmatization and lower text\"\"\"\n",
    "    wnl = nltk.WordNetLemmatizer()\n",
    "    \n",
    "    x = ' '.join(x)\n",
    "    x = re.sub(r\"[\\d\\W]+\", \" \", x)\n",
    "    x = nltk.tokenize.word_tokenize(x) \n",
    "    x = [wnl.lemmatize(w.lower()) for w in x if w.lower() not in stop_words] \n",
    "    \n",
    "    return ' '.join(x)"
   ]
  },
  {
   "cell_type": "code",
   "execution_count": 59,
   "metadata": {
    "collapsed": true,
    "deletable": true,
    "editable": true
   },
   "outputs": [],
   "source": [
    "# group overview by genre and apply preprocessing function\n",
    "temp = df.loc[df['genres_1'].isin(main_genres) & df['overview'].notna() & (df['original_language'] == 'en')]\\\n",
    ".groupby(by='genres_1')['overview'].apply(preprocess_text, stop_words=stop_words)"
   ]
  },
  {
   "cell_type": "code",
   "execution_count": 60,
   "metadata": {
    "collapsed": false,
    "deletable": true,
    "editable": true
   },
   "outputs": [
    {
     "data": {
      "text/html": [
       "<div>\n",
       "<style scoped>\n",
       "    .dataframe tbody tr th:only-of-type {\n",
       "        vertical-align: middle;\n",
       "    }\n",
       "\n",
       "    .dataframe tbody tr th {\n",
       "        vertical-align: top;\n",
       "    }\n",
       "\n",
       "    .dataframe thead th {\n",
       "        text-align: right;\n",
       "    }\n",
       "</style>\n",
       "<table border=\"1\" class=\"dataframe\">\n",
       "  <thead>\n",
       "    <tr style=\"text-align: right;\">\n",
       "      <th></th>\n",
       "      <th>Action</th>\n",
       "      <th>Adventure</th>\n",
       "      <th>Animation</th>\n",
       "      <th>Comedy</th>\n",
       "      <th>Crime</th>\n",
       "      <th>Drama</th>\n",
       "      <th>Fantasy</th>\n",
       "      <th>Horror</th>\n",
       "      <th>Mystery</th>\n",
       "      <th>Romance</th>\n",
       "      <th>Science Fiction</th>\n",
       "      <th>Thriller</th>\n",
       "    </tr>\n",
       "  </thead>\n",
       "  <tbody>\n",
       "    <tr>\n",
       "      <th>0</th>\n",
       "      <td>martial art</td>\n",
       "      <td>snow white</td>\n",
       "      <td>animated film</td>\n",
       "      <td>romantic comedy</td>\n",
       "      <td>drug dealer</td>\n",
       "      <td>working class</td>\n",
       "      <td>short film</td>\n",
       "      <td>horror film</td>\n",
       "      <td>prime suspect</td>\n",
       "      <td>love life</td>\n",
       "      <td>sci fi</td>\n",
       "      <td>psychological thriller</td>\n",
       "    </tr>\n",
       "    <tr>\n",
       "      <th>1</th>\n",
       "      <td>kung fu</td>\n",
       "      <td>secret agent</td>\n",
       "      <td>fairy tale</td>\n",
       "      <td>love life</td>\n",
       "      <td>police officer</td>\n",
       "      <td>love affair</td>\n",
       "      <td>live action</td>\n",
       "      <td>killing spree</td>\n",
       "      <td>scotland yard</td>\n",
       "      <td>romantic comedy</td>\n",
       "      <td>science fiction</td>\n",
       "      <td>police officer</td>\n",
       "    </tr>\n",
       "    <tr>\n",
       "      <th>2</th>\n",
       "      <td>drug lord</td>\n",
       "      <td>king arthur</td>\n",
       "      <td>animated short</td>\n",
       "      <td>ex girlfriend</td>\n",
       "      <td>life crime</td>\n",
       "      <td>change life</td>\n",
       "      <td>beautiful princess</td>\n",
       "      <td>flesh eating</td>\n",
       "      <td>police officer</td>\n",
       "      <td>meet fall</td>\n",
       "      <td>space station</td>\n",
       "      <td>hit man</td>\n",
       "    </tr>\n",
       "    <tr>\n",
       "      <th>3</th>\n",
       "      <td>police officer</td>\n",
       "      <td>save family</td>\n",
       "      <td>stop motion</td>\n",
       "      <td>ex boyfriend</td>\n",
       "      <td>bank robber</td>\n",
       "      <td>coming age</td>\n",
       "      <td>black magic</td>\n",
       "      <td>human flesh</td>\n",
       "      <td>hotel room</td>\n",
       "      <td>night stand</td>\n",
       "      <td>post apocalyptic</td>\n",
       "      <td>dark secret</td>\n",
       "    </tr>\n",
       "    <tr>\n",
       "      <th>4</th>\n",
       "      <td>bounty hunter</td>\n",
       "      <td>cross country</td>\n",
       "      <td>short film</td>\n",
       "      <td>girl dream</td>\n",
       "      <td>hit man</td>\n",
       "      <td>african american</td>\n",
       "      <td>king arthur</td>\n",
       "      <td>mysterious death</td>\n",
       "      <td>new england</td>\n",
       "      <td>thing complicated</td>\n",
       "      <td>crash land</td>\n",
       "      <td>perfect life</td>\n",
       "    </tr>\n",
       "    <tr>\n",
       "      <th>5</th>\n",
       "      <td>cia agent</td>\n",
       "      <td>new world</td>\n",
       "      <td>north pole</td>\n",
       "      <td>comedy film</td>\n",
       "      <td>small time</td>\n",
       "      <td>life story</td>\n",
       "      <td>make wish</td>\n",
       "      <td>group people</td>\n",
       "      <td>mysterious woman</td>\n",
       "      <td>return new</td>\n",
       "      <td>animated short</td>\n",
       "      <td>spiral control</td>\n",
       "    </tr>\n",
       "    <tr>\n",
       "      <th>6</th>\n",
       "      <td>mob bos</td>\n",
       "      <td>save world</td>\n",
       "      <td>walt disney</td>\n",
       "      <td>school student</td>\n",
       "      <td>district attorney</td>\n",
       "      <td>based novel</td>\n",
       "      <td>department store</td>\n",
       "      <td>evil spirit</td>\n",
       "      <td>private detective</td>\n",
       "      <td>comedy set</td>\n",
       "      <td>return earth</td>\n",
       "      <td>begin suspect</td>\n",
       "    </tr>\n",
       "    <tr>\n",
       "      <th>7</th>\n",
       "      <td>drug dealer</td>\n",
       "      <td>classic tale</td>\n",
       "      <td>star war</td>\n",
       "      <td>brand new</td>\n",
       "      <td>sent prison</td>\n",
       "      <td>come term</td>\n",
       "      <td>fairy tale</td>\n",
       "      <td>soon discover</td>\n",
       "      <td>crime scene</td>\n",
       "      <td>spends time</td>\n",
       "      <td>st century</td>\n",
       "      <td>fight survival</td>\n",
       "    </tr>\n",
       "    <tr>\n",
       "      <th>8</th>\n",
       "      <td>high tech</td>\n",
       "      <td>real world</td>\n",
       "      <td>save day</td>\n",
       "      <td>ex wife</td>\n",
       "      <td>scotland yard</td>\n",
       "      <td>school student</td>\n",
       "      <td>magical power</td>\n",
       "      <td>haunted house</td>\n",
       "      <td>district attorney</td>\n",
       "      <td>upper class</td>\n",
       "      <td>life form</td>\n",
       "      <td>family man</td>\n",
       "    </tr>\n",
       "    <tr>\n",
       "      <th>9</th>\n",
       "      <td>hong kong</td>\n",
       "      <td>lost city</td>\n",
       "      <td>comic book</td>\n",
       "      <td>beverly hill</td>\n",
       "      <td>maximum security</td>\n",
       "      <td>single mother</td>\n",
       "      <td>past life</td>\n",
       "      <td>evil force</td>\n",
       "      <td>gruesome murder</td>\n",
       "      <td>blind date</td>\n",
       "      <td>short film</td>\n",
       "      <td>prove innocence</td>\n",
       "    </tr>\n",
       "  </tbody>\n",
       "</table>\n",
       "</div>"
      ],
      "text/plain": [
       "           Action      Adventure       Animation           Comedy  \\\n",
       "0     martial art     snow white   animated film  romantic comedy   \n",
       "1         kung fu   secret agent      fairy tale        love life   \n",
       "2       drug lord    king arthur  animated short    ex girlfriend   \n",
       "3  police officer    save family     stop motion     ex boyfriend   \n",
       "4   bounty hunter  cross country      short film       girl dream   \n",
       "5       cia agent      new world      north pole      comedy film   \n",
       "6         mob bos     save world     walt disney   school student   \n",
       "7     drug dealer   classic tale        star war        brand new   \n",
       "8       high tech     real world        save day          ex wife   \n",
       "9       hong kong      lost city      comic book     beverly hill   \n",
       "\n",
       "               Crime             Drama             Fantasy            Horror  \\\n",
       "0        drug dealer     working class          short film       horror film   \n",
       "1     police officer       love affair         live action     killing spree   \n",
       "2         life crime       change life  beautiful princess      flesh eating   \n",
       "3        bank robber        coming age         black magic       human flesh   \n",
       "4            hit man  african american         king arthur  mysterious death   \n",
       "5         small time        life story           make wish      group people   \n",
       "6  district attorney       based novel    department store       evil spirit   \n",
       "7        sent prison         come term          fairy tale     soon discover   \n",
       "8      scotland yard    school student       magical power     haunted house   \n",
       "9   maximum security     single mother           past life        evil force   \n",
       "\n",
       "             Mystery            Romance   Science Fiction  \\\n",
       "0      prime suspect          love life            sci fi   \n",
       "1      scotland yard    romantic comedy   science fiction   \n",
       "2     police officer          meet fall     space station   \n",
       "3         hotel room        night stand  post apocalyptic   \n",
       "4        new england  thing complicated        crash land   \n",
       "5   mysterious woman         return new    animated short   \n",
       "6  private detective         comedy set      return earth   \n",
       "7        crime scene        spends time        st century   \n",
       "8  district attorney        upper class         life form   \n",
       "9    gruesome murder         blind date        short film   \n",
       "\n",
       "                 Thriller  \n",
       "0  psychological thriller  \n",
       "1          police officer  \n",
       "2                 hit man  \n",
       "3             dark secret  \n",
       "4            perfect life  \n",
       "5          spiral control  \n",
       "6           begin suspect  \n",
       "7          fight survival  \n",
       "8              family man  \n",
       "9         prove innocence  "
      ]
     },
     "execution_count": 60,
     "metadata": {},
     "output_type": "execute_result"
    }
   ],
   "source": [
    "tf = TfidfVectorizer(analyzer='word', ngram_range=(2, 2), min_df=0.4, max_df=0.8, stop_words='english', \n",
    "                     max_features=300000)\n",
    "tf.fit(temp)\n",
    "\n",
    "# extract top n words with highest weight\n",
    "d = {}\n",
    "n = 10\n",
    "for genre in main_genres:\n",
    "    transformed_text = tf.transform([temp[genre]])\n",
    "    feature_array = np.array(tf.get_feature_names())\n",
    "    tfidf_sorting = np.argsort(transformed_text.toarray()).flatten()[::-1]\n",
    "\n",
    "    top_n = feature_array[tfidf_sorting][:n]\n",
    "    d[genre] = top_n\n",
    "\n",
    "# key phrases in overview for each genre, amount of intersection can be varied using min_df, max_df parameter\n",
    "pd.DataFrame(data=d)"
   ]
  },
  {
   "cell_type": "code",
   "execution_count": 61,
   "metadata": {
    "collapsed": true,
    "deletable": true,
    "editable": true
   },
   "outputs": [],
   "source": [
    "# group title by genre and apply preprocessing function\n",
    "temp = df.loc[df['genres_1'].isin(main_genres) & df['title'].notna() & (df['original_language'] == 'en')]\\\n",
    ".groupby(by='genres_1')['title'].apply(preprocess_text, stop_words=stop_words)"
   ]
  },
  {
   "cell_type": "code",
   "execution_count": 62,
   "metadata": {
    "collapsed": false,
    "deletable": true,
    "editable": true
   },
   "outputs": [
    {
     "data": {
      "text/html": [
       "<div>\n",
       "<style scoped>\n",
       "    .dataframe tbody tr th:only-of-type {\n",
       "        vertical-align: middle;\n",
       "    }\n",
       "\n",
       "    .dataframe tbody tr th {\n",
       "        vertical-align: top;\n",
       "    }\n",
       "\n",
       "    .dataframe thead th {\n",
       "        text-align: right;\n",
       "    }\n",
       "</style>\n",
       "<table border=\"1\" class=\"dataframe\">\n",
       "  <thead>\n",
       "    <tr style=\"text-align: right;\">\n",
       "      <th></th>\n",
       "      <th>Action</th>\n",
       "      <th>Adventure</th>\n",
       "      <th>Animation</th>\n",
       "      <th>Comedy</th>\n",
       "      <th>Crime</th>\n",
       "      <th>Drama</th>\n",
       "      <th>Fantasy</th>\n",
       "      <th>Horror</th>\n",
       "      <th>Mystery</th>\n",
       "      <th>Romance</th>\n",
       "      <th>Science Fiction</th>\n",
       "      <th>Thriller</th>\n",
       "    </tr>\n",
       "  </thead>\n",
       "  <tbody>\n",
       "    <tr>\n",
       "      <th>0</th>\n",
       "      <td>gun</td>\n",
       "      <td>adventure</td>\n",
       "      <td>christmas</td>\n",
       "      <td>live</td>\n",
       "      <td>murder</td>\n",
       "      <td>american</td>\n",
       "      <td>dragon</td>\n",
       "      <td>zombie</td>\n",
       "      <td>case</td>\n",
       "      <td>christmas</td>\n",
       "      <td>space</td>\n",
       "      <td>fear</td>\n",
       "    </tr>\n",
       "    <tr>\n",
       "      <th>1</th>\n",
       "      <td>kill</td>\n",
       "      <td>sea</td>\n",
       "      <td>adventure</td>\n",
       "      <td>christmas</td>\n",
       "      <td>killer</td>\n",
       "      <td>angel</td>\n",
       "      <td>christmas</td>\n",
       "      <td>dracula</td>\n",
       "      <td>murder</td>\n",
       "      <td>west</td>\n",
       "      <td>moon</td>\n",
       "      <td>evil</td>\n",
       "    </tr>\n",
       "    <tr>\n",
       "      <th>2</th>\n",
       "      <td>ninja</td>\n",
       "      <td>captain</td>\n",
       "      <td>tom</td>\n",
       "      <td>like</td>\n",
       "      <td>crime</td>\n",
       "      <td>good</td>\n",
       "      <td>princess</td>\n",
       "      <td>evil</td>\n",
       "      <td>charlie</td>\n",
       "      <td>affair</td>\n",
       "      <td>planet</td>\n",
       "      <td>double</td>\n",
       "    </tr>\n",
       "    <tr>\n",
       "      <th>3</th>\n",
       "      <td>hard</td>\n",
       "      <td>pirate</td>\n",
       "      <td>brown</td>\n",
       "      <td>party</td>\n",
       "      <td>thief</td>\n",
       "      <td>song</td>\n",
       "      <td>warrior</td>\n",
       "      <td>massacre</td>\n",
       "      <td>shadow</td>\n",
       "      <td>god</td>\n",
       "      <td>alien</td>\n",
       "      <td>road</td>\n",
       "    </tr>\n",
       "    <tr>\n",
       "      <th>4</th>\n",
       "      <td>justice</td>\n",
       "      <td>journey</td>\n",
       "      <td>toy</td>\n",
       "      <td>american</td>\n",
       "      <td>gun</td>\n",
       "      <td>young</td>\n",
       "      <td>wish</td>\n",
       "      <td>horror</td>\n",
       "      <td>midnight</td>\n",
       "      <td>want</td>\n",
       "      <td>mar</td>\n",
       "      <td>light</td>\n",
       "    </tr>\n",
       "    <tr>\n",
       "      <th>5</th>\n",
       "      <td>cop</td>\n",
       "      <td>prince</td>\n",
       "      <td>high</td>\n",
       "      <td>high</td>\n",
       "      <td>charlie</td>\n",
       "      <td>red</td>\n",
       "      <td>beauty</td>\n",
       "      <td>nightmare</td>\n",
       "      <td>fear</td>\n",
       "      <td>old</td>\n",
       "      <td>battle</td>\n",
       "      <td>darkness</td>\n",
       "    </tr>\n",
       "    <tr>\n",
       "      <th>6</th>\n",
       "      <td>killer</td>\n",
       "      <td>land</td>\n",
       "      <td>cat</td>\n",
       "      <td>family</td>\n",
       "      <td>case</td>\n",
       "      <td>road</td>\n",
       "      <td>santa</td>\n",
       "      <td>terror</td>\n",
       "      <td>lake</td>\n",
       "      <td>sun</td>\n",
       "      <td>project</td>\n",
       "      <td>summer</td>\n",
       "    </tr>\n",
       "    <tr>\n",
       "      <th>7</th>\n",
       "      <td>american</td>\n",
       "      <td>queen</td>\n",
       "      <td>hero</td>\n",
       "      <td>good</td>\n",
       "      <td>kill</td>\n",
       "      <td>like</td>\n",
       "      <td>hunter</td>\n",
       "      <td>frankenstein</td>\n",
       "      <td>like</td>\n",
       "      <td>paris</td>\n",
       "      <td>turtle</td>\n",
       "      <td>cold</td>\n",
       "    </tr>\n",
       "    <tr>\n",
       "      <th>8</th>\n",
       "      <td>soldier</td>\n",
       "      <td>harry</td>\n",
       "      <td>charlie</td>\n",
       "      <td>hollywood</td>\n",
       "      <td>stranger</td>\n",
       "      <td>summer</td>\n",
       "      <td>frankenstein</td>\n",
       "      <td>iii</td>\n",
       "      <td>holmes</td>\n",
       "      <td>la</td>\n",
       "      <td>doctor</td>\n",
       "      <td>zero</td>\n",
       "    </tr>\n",
       "    <tr>\n",
       "      <th>9</th>\n",
       "      <td>red</td>\n",
       "      <td>planet</td>\n",
       "      <td>carol</td>\n",
       "      <td>school</td>\n",
       "      <td>true</td>\n",
       "      <td>child</td>\n",
       "      <td>miracle</td>\n",
       "      <td>vampire</td>\n",
       "      <td>sherlock holmes</td>\n",
       "      <td>valentine</td>\n",
       "      <td>invasion</td>\n",
       "      <td>stranger</td>\n",
       "    </tr>\n",
       "  </tbody>\n",
       "</table>\n",
       "</div>"
      ],
      "text/plain": [
       "     Action  Adventure  Animation     Comedy     Crime     Drama  \\\n",
       "0       gun  adventure  christmas       live    murder  american   \n",
       "1      kill        sea  adventure  christmas    killer     angel   \n",
       "2     ninja    captain        tom       like     crime      good   \n",
       "3      hard     pirate      brown      party     thief      song   \n",
       "4   justice    journey        toy   american       gun     young   \n",
       "5       cop     prince       high       high   charlie       red   \n",
       "6    killer       land        cat     family      case      road   \n",
       "7  american      queen       hero       good      kill      like   \n",
       "8   soldier      harry    charlie  hollywood  stranger    summer   \n",
       "9       red     planet      carol     school      true     child   \n",
       "\n",
       "        Fantasy        Horror          Mystery    Romance Science Fiction  \\\n",
       "0        dragon        zombie             case  christmas           space   \n",
       "1     christmas       dracula           murder       west            moon   \n",
       "2      princess          evil          charlie     affair          planet   \n",
       "3       warrior      massacre           shadow        god           alien   \n",
       "4          wish        horror         midnight       want             mar   \n",
       "5        beauty     nightmare             fear        old          battle   \n",
       "6         santa        terror             lake        sun         project   \n",
       "7        hunter  frankenstein             like      paris          turtle   \n",
       "8  frankenstein           iii           holmes         la          doctor   \n",
       "9       miracle       vampire  sherlock holmes  valentine        invasion   \n",
       "\n",
       "   Thriller  \n",
       "0      fear  \n",
       "1      evil  \n",
       "2    double  \n",
       "3      road  \n",
       "4     light  \n",
       "5  darkness  \n",
       "6    summer  \n",
       "7      cold  \n",
       "8      zero  \n",
       "9  stranger  "
      ]
     },
     "execution_count": 62,
     "metadata": {},
     "output_type": "execute_result"
    }
   ],
   "source": [
    "tf = TfidfVectorizer(analyzer='word', ngram_range=(1, 2), min_df=0.5, max_df=0.85, stop_words='english', \n",
    "                     max_features=300000)\n",
    "tf.fit(temp)\n",
    "\n",
    "# extract top n words with highest weight\n",
    "d = {}\n",
    "n = 10\n",
    "for genre in main_genres:\n",
    "    transformed_text = tf.transform([temp[genre]])\n",
    "    feature_array = np.array(tf.get_feature_names())\n",
    "    tfidf_sorting = np.argsort(transformed_text.toarray()).flatten()[::-1]\n",
    "\n",
    "    top_n = feature_array[tfidf_sorting][:n]\n",
    "    d[genre] = top_n\n",
    "\n",
    "# key words in title for each genre, amount of intersection can be varied using min_df, max_df parameter\n",
    "pd.DataFrame(data=d)"
   ]
  },
  {
   "cell_type": "code",
   "execution_count": 63,
   "metadata": {
    "collapsed": true,
    "deletable": true,
    "editable": true
   },
   "outputs": [],
   "source": [
    "# fill NA values\n",
    "# df['overview'] = df['overview'].fillna('')\n",
    "# df['tagline'] = df['tagline'].fillna('')"
   ]
  },
  {
   "cell_type": "code",
   "execution_count": 64,
   "metadata": {
    "collapsed": false,
    "deletable": true,
    "editable": true
   },
   "outputs": [
    {
     "data": {
      "image/png": "[encoded data removed]",
      "text/plain": [
       "<matplotlib.figure.Figure at 0x7fbf04e27128>"
      ]
     },
     "metadata": {},
     "output_type": "display_data"
    }
   ],
   "source": [
    "temp = df.loc[df['year'].notna() & (df['year'] <= 2018), 'year'].value_counts().reset_index()\\\n",
    ".rename(columns={'year': 'count', 'index': 'year'}).sort_values(by='year')\n",
    "\n",
    "plt.figure(figsize=(9, 6))\n",
    "plt.title('Number of movies released in a particular year', size=15)\n",
    "plt.scatter(x=temp['year'], y=temp['count'])\n",
    "plt.xlabel('Year', size=14)\n",
    "plt.ylabel('Count', size=14);"
   ]
  },
  {
   "cell_type": "code",
   "execution_count": 65,
   "metadata": {
    "collapsed": false,
    "deletable": true,
    "editable": true
   },
   "outputs": [
    {
     "data": {
      "image/png": "[encoded data removed]",
      "text/plain": [
       "<matplotlib.figure.Figure at 0x7fbf057b9940>"
      ]
     },
     "metadata": {},
     "output_type": "display_data"
    }
   ],
   "source": [
    "month_order = ['Jan', 'Feb', 'Mar', 'Apr', 'May', 'Jun', 'Jul', 'Aug', 'Sep', 'Oct', 'Nov', 'Dec']\n",
    "temp = df.loc[df['month'].notna(), 'month'].value_counts().reset_index()\n",
    "temp['index2'] = temp['index'].apply(lambda x: month_order[int(x) - 1])\n",
    "temp = temp.sort_values(by='index')\n",
    "\n",
    "plt.figure(figsize=(6, 4))\n",
    "plt.title('Number of movies released in a particular month', size=15)\n",
    "plt.bar(x=range(12), height=temp['month'], tick_label=temp['index2'])\n",
    "plt.xlabel('Month', size=14)\n",
    "plt.ylabel('Count', size=14);"
   ]
  },
  {
   "cell_type": "code",
   "execution_count": 66,
   "metadata": {
    "collapsed": false,
    "deletable": true,
    "editable": true,
    "scrolled": true
   },
   "outputs": [
    {
     "data": {
      "image/png": "[encoded data removed]",
      "text/plain": [
       "<matplotlib.figure.Figure at 0x7fbf06b2edd8>"
      ]
     },
     "metadata": {},
     "output_type": "display_data"
    }
   ],
   "source": [
    "temp = df.loc[df['month'].notna() & (df['budget'] > 1e+8), 'month'].value_counts().reset_index()\n",
    "temp['index2'] = temp['index'].apply(lambda x: month_order[int(x) - 1])\n",
    "temp = temp.sort_values(by='index')\n",
    "\n",
    "plt.figure(figsize=(6, 4))\n",
    "plt.title('Number of blockbuster released in a particular month', size=15)\n",
    "plt.bar(x=range(12), height=temp['month'], tick_label=temp['index2'])\n",
    "plt.xlabel('Month', size=14)\n",
    "plt.ylabel('Count', size=14);"
   ]
  },
  {
   "cell_type": "code",
   "execution_count": 67,
   "metadata": {
    "collapsed": false,
    "deletable": true,
    "editable": true
   },
   "outputs": [
    {
     "data": {
      "image/png": "[encoded data removed]",
      "text/plain": [
       "<matplotlib.figure.Figure at 0x7fbeff375828>"
      ]
     },
     "metadata": {},
     "output_type": "display_data"
    }
   ],
   "source": [
    "day_of_week = ['Monday', 'Tuesday', 'Wednesday', 'Thursday', 'Friday', 'Saturday', 'Sunday']\n",
    "temp = df.loc[df['day_of_week'].notna(), 'day_of_week'].value_counts()[day_of_week]\n",
    "\n",
    "plt.figure(figsize=(8, 6))\n",
    "plt.title('Number of movies released in a particular day of week', size=15)\n",
    "plt.bar(x=range(7), height=temp.values, tick_label=temp.index)\n",
    "plt.xlabel('Day of week', size=14)\n",
    "plt.ylabel('Count', size=14);"
   ]
  },
  {
   "cell_type": "code",
   "execution_count": 68,
   "metadata": {
    "collapsed": false,
    "deletable": true,
    "editable": true
   },
   "outputs": [
    {
     "data": {
      "image/png": "[encoded data removed]",
      "text/plain": [
       "<matplotlib.figure.Figure at 0x7fbf04d61fd0>"
      ]
     },
     "metadata": {},
     "output_type": "display_data"
    }
   ],
   "source": [
    "temp = df.loc[df['day_of_week'].notna() & (df['budget'] >= 2e+8) & (df['year'] >= 2000), \n",
    "              'day_of_week'].value_counts()[day_of_week]\n",
    "\n",
    "plt.figure(figsize=(8, 6))\n",
    "plt.title('Number of blockbuster released in a particular day of week', size=15)\n",
    "plt.bar(x=range(7), height=temp.values, tick_label=temp.index)\n",
    "plt.xlabel('Day of week', size=14)\n",
    "plt.ylabel('Count', size=14);"
   ]
  },
  {
   "cell_type": "code",
   "execution_count": 69,
   "metadata": {
    "collapsed": false,
    "deletable": true,
    "editable": true
   },
   "outputs": [
    {
     "data": {
      "image/png": "[encoded data removed]",
      "text/plain": [
       "<matplotlib.figure.Figure at 0x7fbeff657978>"
      ]
     },
     "metadata": {},
     "output_type": "display_data"
    }
   ],
   "source": [
    "temp = df.loc[df['genres_1'].isin(main_genres) & \n",
    "                        (df['year'] >= 2000) & \n",
    "                        (df['year'] <= 2016) &\n",
    "                        df['success'].notna()]\n",
    "\n",
    "temp = pd.crosstab(temp['year'], temp['genres_1']).apply(lambda x: x/x.sum(), axis=1)\n",
    "\n",
    "temp.plot(kind='line', stacked=False, colormap='Paired', figsize=(12, 8), linewidth=2.5)\n",
    "plt.legend(loc='center left', bbox_to_anchor=(1, 0.5), fontsize=15)\n",
    "plt.title('Movie popularity by genre in time', size=15)\n",
    "plt.xlabel('Year', size=14)\n",
    "plt.ylabel('Percent of movies', size=14);"
   ]
  },
  {
   "cell_type": "code",
   "execution_count": 70,
   "metadata": {
    "collapsed": true,
    "deletable": true,
    "editable": true
   },
   "outputs": [],
   "source": [
    "df = df.drop(['cast', 'crew', 'belongs_to_collection', 'genres', 'production_companies', \n",
    "              'production_countries', 'release_date', 'belongs_to_collection'], axis=1)"
   ]
  },
  {
   "cell_type": "code",
   "execution_count": 71,
   "metadata": {
    "collapsed": false,
    "deletable": true,
    "editable": true
   },
   "outputs": [
    {
     "data": {
      "text/plain": [
       "id                                  0\n",
       "budget                          36441\n",
       "original_language                  10\n",
       "overview                          920\n",
       "popularity                          0\n",
       "revenue                         37853\n",
       "runtime                          1983\n",
       "tagline                         24714\n",
       "title                               0\n",
       "vote_average                        0\n",
       "vote_count                          0\n",
       "year                               78\n",
       "month                              78\n",
       "day_of_week                        78\n",
       "success                         39734\n",
       "country_name                        0\n",
       "franchise_name                      0\n",
       "companie_name                       0\n",
       "crew_Director                    1040\n",
       "crew_Screenplay                 29407\n",
       "crew_Producer                   23221\n",
       "crew_Executive Producer         36705\n",
       "crew_Music                      38830\n",
       "crew_Director of Photography    26076\n",
       "cast_1                           2691\n",
       "cast_gender_1                    2359\n",
       "cast_2                           4043\n",
       "cast_gender_2                    3672\n",
       "cast_3                           4854\n",
       "cast_gender_3                    4565\n",
       "genres_1                         2383\n",
       "genres_2                        16780\n",
       "genres_3                        31142\n",
       "cast_count                          0\n",
       "crew_count                          0\n",
       "country_count                       0\n",
       "company_count                       0\n",
       "dtype: int64"
      ]
     },
     "execution_count": 71,
     "metadata": {},
     "output_type": "execute_result"
    }
   ],
   "source": [
    "df.isna().sum()"
   ]
  },
  {
   "cell_type": "code",
   "execution_count": 72,
   "metadata": {
    "collapsed": false,
    "deletable": true,
    "editable": true
   },
   "outputs": [],
   "source": [
    "df = df.drop(df.loc[df['year'].isna() | df['original_language'].isna() | df['title'].isna() | \\\n",
    "                    df['overview'].isna()].index, axis=0)"
   ]
  },
  {
   "cell_type": "code",
   "execution_count": 73,
   "metadata": {
    "collapsed": true,
    "deletable": true,
    "editable": true
   },
   "outputs": [],
   "source": [
    "df['description'] = df['title'] + ' ' + df['tagline'].fillna('') + ' ' + df['overview']"
   ]
  },
  {
   "cell_type": "code",
   "execution_count": 74,
   "metadata": {
    "collapsed": true,
    "deletable": true,
    "editable": true
   },
   "outputs": [],
   "source": [
    "def preprocess_description(x, stop_words):\n",
    "    \"\"\"Remove special symbols and numbers, make lemmatization and lower text\"\"\"\n",
    "    wnl = nltk.WordNetLemmatizer()\n",
    "    \n",
    "    x = re.sub(r\"[\\d\\W]+\", \" \", x)\n",
    "    x = nltk.tokenize.word_tokenize(x) \n",
    "    x = [wnl.lemmatize(w.lower()) for w in x if w.lower() not in stop_words] \n",
    "    \n",
    "    return ' '.join(x)"
   ]
  },
  {
   "cell_type": "code",
   "execution_count": 75,
   "metadata": {
    "collapsed": false,
    "deletable": true,
    "editable": true
   },
   "outputs": [],
   "source": [
    "df['description'] = df['description'].apply(preprocess_description, stop_words=stop_words)"
   ]
  },
  {
   "cell_type": "code",
   "execution_count": 78,
   "metadata": {
    "collapsed": false,
    "deletable": true,
    "editable": true
   },
   "outputs": [],
   "source": [
    "df = df.drop(['overview', 'tagline'], axis=1)"
   ]
  },
  {
   "cell_type": "code",
   "execution_count": 76,
   "metadata": {
    "collapsed": true
   },
   "outputs": [],
   "source": [
    "keywords = pd.read_csv(os.path.join(DATA_PATH, 'keywords.csv'))\n",
    "df = df.merge(keywords, on='id')\n",
    "del keywords"
   ]
  },
  {
   "cell_type": "code",
   "execution_count": 92,
   "metadata": {
    "collapsed": false
   },
   "outputs": [],
   "source": [
    "def join_keywords(x):\n",
    "    p = re.compile('\\'name\\': \\'(?P<name>[\\w\\s\\d\\.,-]*)\\'')\n",
    "    return ' '.join(re.findall(p, x))"
   ]
  },
  {
   "cell_type": "code",
   "execution_count": 94,
   "metadata": {
    "collapsed": false
   },
   "outputs": [],
   "source": [
    "df['keywords'] = df['keywords'].apply(join_keywords)"
   ]
  },
  {
   "cell_type": "code",
   "execution_count": 95,
   "metadata": {
    "collapsed": false,
    "deletable": true,
    "editable": true
   },
   "outputs": [
    {
     "data": {
      "text/html": [
       "<div>\n",
       "<style scoped>\n",
       "    .dataframe tbody tr th:only-of-type {\n",
       "        vertical-align: middle;\n",
       "    }\n",
       "\n",
       "    .dataframe tbody tr th {\n",
       "        vertical-align: top;\n",
       "    }\n",
       "\n",
       "    .dataframe thead th {\n",
       "        text-align: right;\n",
       "    }\n",
       "</style>\n",
       "<table border=\"1\" class=\"dataframe\">\n",
       "  <thead>\n",
       "    <tr style=\"text-align: right;\">\n",
       "      <th></th>\n",
       "      <th>0</th>\n",
       "      <th>1</th>\n",
       "      <th>2</th>\n",
       "      <th>3</th>\n",
       "      <th>4</th>\n",
       "    </tr>\n",
       "  </thead>\n",
       "  <tbody>\n",
       "    <tr>\n",
       "      <th>id</th>\n",
       "      <td>862</td>\n",
       "      <td>8844</td>\n",
       "      <td>15602</td>\n",
       "      <td>31357</td>\n",
       "      <td>11862</td>\n",
       "    </tr>\n",
       "    <tr>\n",
       "      <th>budget</th>\n",
       "      <td>3e+07</td>\n",
       "      <td>6.5e+07</td>\n",
       "      <td>NaN</td>\n",
       "      <td>1.6e+07</td>\n",
       "      <td>NaN</td>\n",
       "    </tr>\n",
       "    <tr>\n",
       "      <th>original_language</th>\n",
       "      <td>en</td>\n",
       "      <td>en</td>\n",
       "      <td>en</td>\n",
       "      <td>en</td>\n",
       "      <td>en</td>\n",
       "    </tr>\n",
       "    <tr>\n",
       "      <th>popularity</th>\n",
       "      <td>21.9469</td>\n",
       "      <td>17.0155</td>\n",
       "      <td>11.7129</td>\n",
       "      <td>3.85949</td>\n",
       "      <td>8.38752</td>\n",
       "    </tr>\n",
       "    <tr>\n",
       "      <th>revenue</th>\n",
       "      <td>3.73554e+08</td>\n",
       "      <td>2.62797e+08</td>\n",
       "      <td>NaN</td>\n",
       "      <td>8.14522e+07</td>\n",
       "      <td>7.65789e+07</td>\n",
       "    </tr>\n",
       "    <tr>\n",
       "      <th>runtime</th>\n",
       "      <td>81</td>\n",
       "      <td>104</td>\n",
       "      <td>101</td>\n",
       "      <td>127</td>\n",
       "      <td>106</td>\n",
       "    </tr>\n",
       "    <tr>\n",
       "      <th>title</th>\n",
       "      <td>Toy Story</td>\n",
       "      <td>Jumanji</td>\n",
       "      <td>Grumpier Old Men</td>\n",
       "      <td>Waiting to Exhale</td>\n",
       "      <td>Father of the Bride Part II</td>\n",
       "    </tr>\n",
       "    <tr>\n",
       "      <th>vote_average</th>\n",
       "      <td>7.7</td>\n",
       "      <td>6.9</td>\n",
       "      <td>6.5</td>\n",
       "      <td>6.1</td>\n",
       "      <td>5.7</td>\n",
       "    </tr>\n",
       "    <tr>\n",
       "      <th>vote_count</th>\n",
       "      <td>5415</td>\n",
       "      <td>2413</td>\n",
       "      <td>92</td>\n",
       "      <td>34</td>\n",
       "      <td>173</td>\n",
       "    </tr>\n",
       "    <tr>\n",
       "      <th>year</th>\n",
       "      <td>1995</td>\n",
       "      <td>1995</td>\n",
       "      <td>1995</td>\n",
       "      <td>1995</td>\n",
       "      <td>1995</td>\n",
       "    </tr>\n",
       "    <tr>\n",
       "      <th>month</th>\n",
       "      <td>10</td>\n",
       "      <td>12</td>\n",
       "      <td>12</td>\n",
       "      <td>12</td>\n",
       "      <td>2</td>\n",
       "    </tr>\n",
       "    <tr>\n",
       "      <th>day_of_week</th>\n",
       "      <td>Monday</td>\n",
       "      <td>Friday</td>\n",
       "      <td>Friday</td>\n",
       "      <td>Friday</td>\n",
       "      <td>Friday</td>\n",
       "    </tr>\n",
       "    <tr>\n",
       "      <th>success</th>\n",
       "      <td>12.4518</td>\n",
       "      <td>4.04303</td>\n",
       "      <td>NaN</td>\n",
       "      <td>5.09076</td>\n",
       "      <td>NaN</td>\n",
       "    </tr>\n",
       "    <tr>\n",
       "      <th>country_name</th>\n",
       "      <td>United States of America</td>\n",
       "      <td>United States of America</td>\n",
       "      <td>United States of America</td>\n",
       "      <td>United States of America</td>\n",
       "      <td>United States of America</td>\n",
       "    </tr>\n",
       "    <tr>\n",
       "      <th>franchise_name</th>\n",
       "      <td>Toy Story Collection</td>\n",
       "      <td>unknown</td>\n",
       "      <td>Grumpy Old Men Collection</td>\n",
       "      <td>unknown</td>\n",
       "      <td>Father of the Bride Collection</td>\n",
       "    </tr>\n",
       "    <tr>\n",
       "      <th>companie_name</th>\n",
       "      <td>Pixar Animation Studios</td>\n",
       "      <td>TriStar Pictures</td>\n",
       "      <td>Lancaster Gate</td>\n",
       "      <td>Twentieth Century Fox Film Corporation</td>\n",
       "      <td>Sandollar Productions</td>\n",
       "    </tr>\n",
       "    <tr>\n",
       "      <th>crew_Director</th>\n",
       "      <td>John Lasseter</td>\n",
       "      <td>Joe Johnston</td>\n",
       "      <td>Howard Deutch</td>\n",
       "      <td>Forest Whitaker</td>\n",
       "      <td>Charles Shyer</td>\n",
       "    </tr>\n",
       "    <tr>\n",
       "      <th>crew_Screenplay</th>\n",
       "      <td>Joss Whedon</td>\n",
       "      <td>Jonathan Hensleigh</td>\n",
       "      <td>NaN</td>\n",
       "      <td>Ronald Bass</td>\n",
       "      <td>Nancy Meyers</td>\n",
       "    </tr>\n",
       "    <tr>\n",
       "      <th>crew_Producer</th>\n",
       "      <td>Bonnie Arnold</td>\n",
       "      <td>Scott Kroopf</td>\n",
       "      <td>NaN</td>\n",
       "      <td>Ronald Bass</td>\n",
       "      <td>Nancy Meyers</td>\n",
       "    </tr>\n",
       "    <tr>\n",
       "      <th>crew_Executive Producer</th>\n",
       "      <td>Ed Catmull</td>\n",
       "      <td>Larry J. Franco</td>\n",
       "      <td>NaN</td>\n",
       "      <td>Terry McMillan</td>\n",
       "      <td>NaN</td>\n",
       "    </tr>\n",
       "    <tr>\n",
       "      <th>crew_Music</th>\n",
       "      <td>Randy Newman</td>\n",
       "      <td>NaN</td>\n",
       "      <td>NaN</td>\n",
       "      <td>NaN</td>\n",
       "      <td>NaN</td>\n",
       "    </tr>\n",
       "    <tr>\n",
       "      <th>crew_Director of Photography</th>\n",
       "      <td>NaN</td>\n",
       "      <td>Thomas E. Ackerman</td>\n",
       "      <td>NaN</td>\n",
       "      <td>NaN</td>\n",
       "      <td>Elliot Davis</td>\n",
       "    </tr>\n",
       "    <tr>\n",
       "      <th>cast_1</th>\n",
       "      <td>Tom Hanks</td>\n",
       "      <td>Robin Williams</td>\n",
       "      <td>Walter Matthau</td>\n",
       "      <td>Whitney Houston</td>\n",
       "      <td>Steve Martin</td>\n",
       "    </tr>\n",
       "    <tr>\n",
       "      <th>cast_gender_1</th>\n",
       "      <td>2</td>\n",
       "      <td>2</td>\n",
       "      <td>2</td>\n",
       "      <td>1</td>\n",
       "      <td>2</td>\n",
       "    </tr>\n",
       "    <tr>\n",
       "      <th>cast_2</th>\n",
       "      <td>Tim Allen</td>\n",
       "      <td>Jonathan Hyde</td>\n",
       "      <td>Jack Lemmon</td>\n",
       "      <td>Angela Bassett</td>\n",
       "      <td>Diane Keaton</td>\n",
       "    </tr>\n",
       "    <tr>\n",
       "      <th>cast_gender_2</th>\n",
       "      <td>2</td>\n",
       "      <td>2</td>\n",
       "      <td>2</td>\n",
       "      <td>1</td>\n",
       "      <td>1</td>\n",
       "    </tr>\n",
       "    <tr>\n",
       "      <th>cast_3</th>\n",
       "      <td>Don Rickles</td>\n",
       "      <td>Kirsten Dunst</td>\n",
       "      <td>Ann-Margret</td>\n",
       "      <td>Loretta Devine</td>\n",
       "      <td>Martin Short</td>\n",
       "    </tr>\n",
       "    <tr>\n",
       "      <th>cast_gender_3</th>\n",
       "      <td>2</td>\n",
       "      <td>1</td>\n",
       "      <td>1</td>\n",
       "      <td>1</td>\n",
       "      <td>2</td>\n",
       "    </tr>\n",
       "    <tr>\n",
       "      <th>genres_1</th>\n",
       "      <td>Animation</td>\n",
       "      <td>Adventure</td>\n",
       "      <td>Romance</td>\n",
       "      <td>Comedy</td>\n",
       "      <td>Comedy</td>\n",
       "    </tr>\n",
       "    <tr>\n",
       "      <th>genres_2</th>\n",
       "      <td>Comedy</td>\n",
       "      <td>Fantasy</td>\n",
       "      <td>Comedy</td>\n",
       "      <td>Drama</td>\n",
       "      <td>NaN</td>\n",
       "    </tr>\n",
       "    <tr>\n",
       "      <th>genres_3</th>\n",
       "      <td>Family</td>\n",
       "      <td>Family</td>\n",
       "      <td>NaN</td>\n",
       "      <td>Romance</td>\n",
       "      <td>NaN</td>\n",
       "    </tr>\n",
       "    <tr>\n",
       "      <th>cast_count</th>\n",
       "      <td>13</td>\n",
       "      <td>26</td>\n",
       "      <td>7</td>\n",
       "      <td>10</td>\n",
       "      <td>12</td>\n",
       "    </tr>\n",
       "    <tr>\n",
       "      <th>crew_count</th>\n",
       "      <td>106</td>\n",
       "      <td>16</td>\n",
       "      <td>4</td>\n",
       "      <td>10</td>\n",
       "      <td>7</td>\n",
       "    </tr>\n",
       "    <tr>\n",
       "      <th>country_count</th>\n",
       "      <td>1</td>\n",
       "      <td>1</td>\n",
       "      <td>1</td>\n",
       "      <td>1</td>\n",
       "      <td>1</td>\n",
       "    </tr>\n",
       "    <tr>\n",
       "      <th>company_count</th>\n",
       "      <td>1</td>\n",
       "      <td>3</td>\n",
       "      <td>2</td>\n",
       "      <td>1</td>\n",
       "      <td>2</td>\n",
       "    </tr>\n",
       "    <tr>\n",
       "      <th>description</th>\n",
       "      <td>toy story led woody andy toy live happily room...</td>\n",
       "      <td>jumanji roll dice unleash excitement sibling j...</td>\n",
       "      <td>grumpier old men still yelling still fighting ...</td>\n",
       "      <td>waiting exhale friend people let never let for...</td>\n",
       "      <td>father bride part ii world back normal surpris...</td>\n",
       "    </tr>\n",
       "    <tr>\n",
       "      <th>keywords</th>\n",
       "      <td>jealousy toy boy friendship friends rivalry bo...</td>\n",
       "      <td>board game disappearance new home recluse gian...</td>\n",
       "      <td>fishing best friend duringcreditsstinger old men</td>\n",
       "      <td>based on novel interracial relationship single...</td>\n",
       "      <td>baby midlife crisis confidence aging daughter ...</td>\n",
       "    </tr>\n",
       "  </tbody>\n",
       "</table>\n",
       "</div>"
      ],
      "text/plain": [
       "                                                                              0  \\\n",
       "id                                                                          862   \n",
       "budget                                                                    3e+07   \n",
       "original_language                                                            en   \n",
       "popularity                                                              21.9469   \n",
       "revenue                                                             3.73554e+08   \n",
       "runtime                                                                      81   \n",
       "title                                                                 Toy Story   \n",
       "vote_average                                                                7.7   \n",
       "vote_count                                                                 5415   \n",
       "year                                                                       1995   \n",
       "month                                                                        10   \n",
       "day_of_week                                                              Monday   \n",
       "success                                                                 12.4518   \n",
       "country_name                                           United States of America   \n",
       "franchise_name                                             Toy Story Collection   \n",
       "companie_name                                           Pixar Animation Studios   \n",
       "crew_Director                                                     John Lasseter   \n",
       "crew_Screenplay                                                     Joss Whedon   \n",
       "crew_Producer                                                     Bonnie Arnold   \n",
       "crew_Executive Producer                                              Ed Catmull   \n",
       "crew_Music                                                         Randy Newman   \n",
       "crew_Director of Photography                                                NaN   \n",
       "cast_1                                                                Tom Hanks   \n",
       "cast_gender_1                                                                 2   \n",
       "cast_2                                                                Tim Allen   \n",
       "cast_gender_2                                                                 2   \n",
       "cast_3                                                              Don Rickles   \n",
       "cast_gender_3                                                                 2   \n",
       "genres_1                                                              Animation   \n",
       "genres_2                                                                 Comedy   \n",
       "genres_3                                                                 Family   \n",
       "cast_count                                                                   13   \n",
       "crew_count                                                                  106   \n",
       "country_count                                                                 1   \n",
       "company_count                                                                 1   \n",
       "description                   toy story led woody andy toy live happily room...   \n",
       "keywords                      jealousy toy boy friendship friends rivalry bo...   \n",
       "\n",
       "                                                                              1  \\\n",
       "id                                                                         8844   \n",
       "budget                                                                  6.5e+07   \n",
       "original_language                                                            en   \n",
       "popularity                                                              17.0155   \n",
       "revenue                                                             2.62797e+08   \n",
       "runtime                                                                     104   \n",
       "title                                                                   Jumanji   \n",
       "vote_average                                                                6.9   \n",
       "vote_count                                                                 2413   \n",
       "year                                                                       1995   \n",
       "month                                                                        12   \n",
       "day_of_week                                                              Friday   \n",
       "success                                                                 4.04303   \n",
       "country_name                                           United States of America   \n",
       "franchise_name                                                          unknown   \n",
       "companie_name                                                  TriStar Pictures   \n",
       "crew_Director                                                      Joe Johnston   \n",
       "crew_Screenplay                                              Jonathan Hensleigh   \n",
       "crew_Producer                                                      Scott Kroopf   \n",
       "crew_Executive Producer                                         Larry J. Franco   \n",
       "crew_Music                                                                  NaN   \n",
       "crew_Director of Photography                                 Thomas E. Ackerman   \n",
       "cast_1                                                           Robin Williams   \n",
       "cast_gender_1                                                                 2   \n",
       "cast_2                                                            Jonathan Hyde   \n",
       "cast_gender_2                                                                 2   \n",
       "cast_3                                                            Kirsten Dunst   \n",
       "cast_gender_3                                                                 1   \n",
       "genres_1                                                              Adventure   \n",
       "genres_2                                                                Fantasy   \n",
       "genres_3                                                                 Family   \n",
       "cast_count                                                                   26   \n",
       "crew_count                                                                   16   \n",
       "country_count                                                                 1   \n",
       "company_count                                                                 3   \n",
       "description                   jumanji roll dice unleash excitement sibling j...   \n",
       "keywords                      board game disappearance new home recluse gian...   \n",
       "\n",
       "                                                                              2  \\\n",
       "id                                                                        15602   \n",
       "budget                                                                      NaN   \n",
       "original_language                                                            en   \n",
       "popularity                                                              11.7129   \n",
       "revenue                                                                     NaN   \n",
       "runtime                                                                     101   \n",
       "title                                                          Grumpier Old Men   \n",
       "vote_average                                                                6.5   \n",
       "vote_count                                                                   92   \n",
       "year                                                                       1995   \n",
       "month                                                                        12   \n",
       "day_of_week                                                              Friday   \n",
       "success                                                                     NaN   \n",
       "country_name                                           United States of America   \n",
       "franchise_name                                        Grumpy Old Men Collection   \n",
       "companie_name                                                    Lancaster Gate   \n",
       "crew_Director                                                     Howard Deutch   \n",
       "crew_Screenplay                                                             NaN   \n",
       "crew_Producer                                                               NaN   \n",
       "crew_Executive Producer                                                     NaN   \n",
       "crew_Music                                                                  NaN   \n",
       "crew_Director of Photography                                                NaN   \n",
       "cast_1                                                           Walter Matthau   \n",
       "cast_gender_1                                                                 2   \n",
       "cast_2                                                              Jack Lemmon   \n",
       "cast_gender_2                                                                 2   \n",
       "cast_3                                                              Ann-Margret   \n",
       "cast_gender_3                                                                 1   \n",
       "genres_1                                                                Romance   \n",
       "genres_2                                                                 Comedy   \n",
       "genres_3                                                                    NaN   \n",
       "cast_count                                                                    7   \n",
       "crew_count                                                                    4   \n",
       "country_count                                                                 1   \n",
       "company_count                                                                 2   \n",
       "description                   grumpier old men still yelling still fighting ...   \n",
       "keywords                       fishing best friend duringcreditsstinger old men   \n",
       "\n",
       "                                                                              3  \\\n",
       "id                                                                        31357   \n",
       "budget                                                                  1.6e+07   \n",
       "original_language                                                            en   \n",
       "popularity                                                              3.85949   \n",
       "revenue                                                             8.14522e+07   \n",
       "runtime                                                                     127   \n",
       "title                                                         Waiting to Exhale   \n",
       "vote_average                                                                6.1   \n",
       "vote_count                                                                   34   \n",
       "year                                                                       1995   \n",
       "month                                                                        12   \n",
       "day_of_week                                                              Friday   \n",
       "success                                                                 5.09076   \n",
       "country_name                                           United States of America   \n",
       "franchise_name                                                          unknown   \n",
       "companie_name                            Twentieth Century Fox Film Corporation   \n",
       "crew_Director                                                   Forest Whitaker   \n",
       "crew_Screenplay                                                     Ronald Bass   \n",
       "crew_Producer                                                       Ronald Bass   \n",
       "crew_Executive Producer                                          Terry McMillan   \n",
       "crew_Music                                                                  NaN   \n",
       "crew_Director of Photography                                                NaN   \n",
       "cast_1                                                          Whitney Houston   \n",
       "cast_gender_1                                                                 1   \n",
       "cast_2                                                           Angela Bassett   \n",
       "cast_gender_2                                                                 1   \n",
       "cast_3                                                           Loretta Devine   \n",
       "cast_gender_3                                                                 1   \n",
       "genres_1                                                                 Comedy   \n",
       "genres_2                                                                  Drama   \n",
       "genres_3                                                                Romance   \n",
       "cast_count                                                                   10   \n",
       "crew_count                                                                   10   \n",
       "country_count                                                                 1   \n",
       "company_count                                                                 1   \n",
       "description                   waiting exhale friend people let never let for...   \n",
       "keywords                      based on novel interracial relationship single...   \n",
       "\n",
       "                                                                              4  \n",
       "id                                                                        11862  \n",
       "budget                                                                      NaN  \n",
       "original_language                                                            en  \n",
       "popularity                                                              8.38752  \n",
       "revenue                                                             7.65789e+07  \n",
       "runtime                                                                     106  \n",
       "title                                               Father of the Bride Part II  \n",
       "vote_average                                                                5.7  \n",
       "vote_count                                                                  173  \n",
       "year                                                                       1995  \n",
       "month                                                                         2  \n",
       "day_of_week                                                              Friday  \n",
       "success                                                                     NaN  \n",
       "country_name                                           United States of America  \n",
       "franchise_name                                   Father of the Bride Collection  \n",
       "companie_name                                             Sandollar Productions  \n",
       "crew_Director                                                     Charles Shyer  \n",
       "crew_Screenplay                                                    Nancy Meyers  \n",
       "crew_Producer                                                      Nancy Meyers  \n",
       "crew_Executive Producer                                                     NaN  \n",
       "crew_Music                                                                  NaN  \n",
       "crew_Director of Photography                                       Elliot Davis  \n",
       "cast_1                                                             Steve Martin  \n",
       "cast_gender_1                                                                 2  \n",
       "cast_2                                                             Diane Keaton  \n",
       "cast_gender_2                                                                 1  \n",
       "cast_3                                                             Martin Short  \n",
       "cast_gender_3                                                                 2  \n",
       "genres_1                                                                 Comedy  \n",
       "genres_2                                                                    NaN  \n",
       "genres_3                                                                    NaN  \n",
       "cast_count                                                                   12  \n",
       "crew_count                                                                    7  \n",
       "country_count                                                                 1  \n",
       "company_count                                                                 2  \n",
       "description                   father bride part ii world back normal surpris...  \n",
       "keywords                      baby midlife crisis confidence aging daughter ...  "
      ]
     },
     "execution_count": 95,
     "metadata": {},
     "output_type": "execute_result"
    }
   ],
   "source": [
    "df.head(5).T"
   ]
  },
  {
   "cell_type": "code",
   "execution_count": 96,
   "metadata": {
    "collapsed": false,
    "deletable": true,
    "editable": true
   },
   "outputs": [],
   "source": [
    "df.to_csv(path_or_buf=os.path.join(DATA_PATH, 'clean.csv'), index=False)"
   ]
  }
 ],
 "metadata": {
  "kernelspec": {
   "display_name": "Python 3",
   "language": "python",
   "name": "python3"
  },
  "language_info": {
   "codemirror_mode": {
    "name": "ipython",
    "version": 3
   },
   "file_extension": ".py",
   "mimetype": "text/x-python",
   "name": "python",
   "nbconvert_exporter": "python",
   "pygments_lexer": "ipython3",
   "version": "3.4.3"
  }
 },
 "nbformat": 4,
 "nbformat_minor": 2
}
